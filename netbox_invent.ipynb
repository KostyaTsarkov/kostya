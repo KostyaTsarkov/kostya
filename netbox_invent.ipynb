{
 "cells": [
  {
   "cell_type": "code",
   "execution_count": 1,
   "metadata": {},
   "outputs": [
    {
     "name": "stdout",
     "output_type": "stream",
     "text": [
      "Collecting netbox_netdev_inventory\n",
      "  Downloading netbox_netdev_inventory-0.2.3.tar.gz (19 kB)\n",
      "  Preparing metadata (setup.py) ... \u001b[?25ldone\n",
      "\u001b[?25hCollecting appdirs\n",
      "  Downloading appdirs-1.4.4-py2.py3-none-any.whl (9.6 kB)\n",
      "Collecting cachetools\n",
      "  Downloading cachetools-5.3.0-py3-none-any.whl (9.3 kB)\n",
      "Collecting defusedxml\n",
      "  Downloading defusedxml-0.7.1-py2.py3-none-any.whl (25 kB)\n",
      "Requirement already satisfied: lxml in /Library/Frameworks/Python.framework/Versions/3.8/lib/python3.8/site-packages (from netbox_netdev_inventory) (4.9.1)\n",
      "Requirement already satisfied: napalm in /Library/Frameworks/Python.framework/Versions/3.8/lib/python3.8/site-packages (from netbox_netdev_inventory) (4.0.0)\n",
      "Collecting netboxapi\n",
      "  Downloading netboxapi-1.1.7.tar.gz (7.5 kB)\n",
      "  Preparing metadata (setup.py) ... \u001b[?25ldone\n",
      "\u001b[?25hCollecting simplejson\n",
      "  Downloading simplejson-3.18.1-cp38-cp38-macosx_10_9_x86_64.whl (75 kB)\n",
      "\u001b[2K     \u001b[90m━━━━━━━━━━━━━━━━━━━━━━━━━━━━━━━━━━━━━━━━\u001b[0m \u001b[32m75.2/75.2 kB\u001b[0m \u001b[31m49.0 kB/s\u001b[0m eta \u001b[36m0:00:00\u001b[0ma \u001b[36m0:00:01\u001b[0m\n",
      "\u001b[?25hRequirement already satisfied: tqdm in /Library/Frameworks/Python.framework/Versions/3.8/lib/python3.8/site-packages (from netbox_netdev_inventory) (4.64.1)\n",
      "Requirement already satisfied: junos-eznc>=2.6.3 in /Library/Frameworks/Python.framework/Versions/3.8/lib/python3.8/site-packages (from napalm->netbox_netdev_inventory) (2.6.6)\n",
      "Requirement already satisfied: textfsm<=1.1.2 in /Library/Frameworks/Python.framework/Versions/3.8/lib/python3.8/site-packages (from napalm->netbox_netdev_inventory) (1.1.2)\n",
      "Requirement already satisfied: typing-extensions>=4.3.0 in /Library/Frameworks/Python.framework/Versions/3.8/lib/python3.8/site-packages (from napalm->netbox_netdev_inventory) (4.4.0)\n",
      "Requirement already satisfied: cffi>=1.11.3 in /Library/Frameworks/Python.framework/Versions/3.8/lib/python3.8/site-packages (from napalm->netbox_netdev_inventory) (1.15.1)\n",
      "Requirement already satisfied: paramiko>=2.6.0 in /Library/Frameworks/Python.framework/Versions/3.8/lib/python3.8/site-packages (from napalm->netbox_netdev_inventory) (2.12.0)\n",
      "Requirement already satisfied: future in /Library/Frameworks/Python.framework/Versions/3.8/lib/python3.8/site-packages (from napalm->netbox_netdev_inventory) (0.18.2)\n",
      "Requirement already satisfied: pyeapi>=0.8.2 in /Library/Frameworks/Python.framework/Versions/3.8/lib/python3.8/site-packages (from napalm->netbox_netdev_inventory) (0.8.4)\n",
      "Requirement already satisfied: scp in /Library/Frameworks/Python.framework/Versions/3.8/lib/python3.8/site-packages (from napalm->netbox_netdev_inventory) (0.14.4)\n",
      "Requirement already satisfied: ncclient in /Library/Frameworks/Python.framework/Versions/3.8/lib/python3.8/site-packages (from napalm->netbox_netdev_inventory) (0.6.13)\n",
      "Requirement already satisfied: setuptools>=38.4.0 in /Library/Frameworks/Python.framework/Versions/3.8/lib/python3.8/site-packages (from napalm->netbox_netdev_inventory) (47.1.0)\n",
      "Requirement already satisfied: netutils>=1.0.0 in /Library/Frameworks/Python.framework/Versions/3.8/lib/python3.8/site-packages (from napalm->netbox_netdev_inventory) (1.4.0)\n",
      "Requirement already satisfied: netaddr in /Library/Frameworks/Python.framework/Versions/3.8/lib/python3.8/site-packages (from napalm->netbox_netdev_inventory) (0.8.0)\n",
      "Requirement already satisfied: requests>=2.7.0 in /Library/Frameworks/Python.framework/Versions/3.8/lib/python3.8/site-packages (from napalm->netbox_netdev_inventory) (2.28.1)\n",
      "Requirement already satisfied: ttp-templates in /Library/Frameworks/Python.framework/Versions/3.8/lib/python3.8/site-packages (from napalm->netbox_netdev_inventory) (0.3.2)\n",
      "Requirement already satisfied: jinja2 in /Library/Frameworks/Python.framework/Versions/3.8/lib/python3.8/site-packages (from napalm->netbox_netdev_inventory) (3.1.2)\n",
      "Requirement already satisfied: netmiko>=4.0.0 in /Library/Frameworks/Python.framework/Versions/3.8/lib/python3.8/site-packages (from napalm->netbox_netdev_inventory) (4.1.2)\n",
      "Requirement already satisfied: ttp in /Library/Frameworks/Python.framework/Versions/3.8/lib/python3.8/site-packages (from napalm->netbox_netdev_inventory) (0.9.2)\n",
      "Requirement already satisfied: pyYAML in /Library/Frameworks/Python.framework/Versions/3.8/lib/python3.8/site-packages (from napalm->netbox_netdev_inventory) (6.0)\n",
      "Requirement already satisfied: pycparser in /Library/Frameworks/Python.framework/Versions/3.8/lib/python3.8/site-packages (from cffi>=1.11.3->napalm->netbox_netdev_inventory) (2.21)\n",
      "Requirement already satisfied: pyserial in /Library/Frameworks/Python.framework/Versions/3.8/lib/python3.8/site-packages (from junos-eznc>=2.6.3->napalm->netbox_netdev_inventory) (3.5)\n",
      "Requirement already satisfied: yamlordereddictloader in /Library/Frameworks/Python.framework/Versions/3.8/lib/python3.8/site-packages (from junos-eznc>=2.6.3->napalm->netbox_netdev_inventory) (0.4.0)\n",
      "Requirement already satisfied: six in /Library/Frameworks/Python.framework/Versions/3.8/lib/python3.8/site-packages (from junos-eznc>=2.6.3->napalm->netbox_netdev_inventory) (1.16.0)\n",
      "Requirement already satisfied: pyparsing in /Library/Frameworks/Python.framework/Versions/3.8/lib/python3.8/site-packages (from junos-eznc>=2.6.3->napalm->netbox_netdev_inventory) (3.0.9)\n",
      "Requirement already satisfied: transitions in /Library/Frameworks/Python.framework/Versions/3.8/lib/python3.8/site-packages (from junos-eznc>=2.6.3->napalm->netbox_netdev_inventory) (0.9.0)\n",
      "Requirement already satisfied: MarkupSafe>=2.0 in /Library/Frameworks/Python.framework/Versions/3.8/lib/python3.8/site-packages (from jinja2->napalm->netbox_netdev_inventory) (2.1.1)\n",
      "Requirement already satisfied: ntc-templates>=2.0.0 in /Library/Frameworks/Python.framework/Versions/3.8/lib/python3.8/site-packages (from netmiko>=4.0.0->napalm->netbox_netdev_inventory) (3.2.0)\n",
      "Requirement already satisfied: tenacity in /Library/Frameworks/Python.framework/Versions/3.8/lib/python3.8/site-packages (from netmiko>=4.0.0->napalm->netbox_netdev_inventory) (8.1.0)\n",
      "Requirement already satisfied: bcrypt>=3.1.3 in /Library/Frameworks/Python.framework/Versions/3.8/lib/python3.8/site-packages (from paramiko>=2.6.0->napalm->netbox_netdev_inventory) (4.0.1)\n",
      "Requirement already satisfied: pynacl>=1.0.1 in /Library/Frameworks/Python.framework/Versions/3.8/lib/python3.8/site-packages (from paramiko>=2.6.0->napalm->netbox_netdev_inventory) (1.5.0)\n",
      "Requirement already satisfied: cryptography>=2.5 in /Library/Frameworks/Python.framework/Versions/3.8/lib/python3.8/site-packages (from paramiko>=2.6.0->napalm->netbox_netdev_inventory) (39.0.0)\n",
      "Requirement already satisfied: charset-normalizer<3,>=2 in /Library/Frameworks/Python.framework/Versions/3.8/lib/python3.8/site-packages (from requests>=2.7.0->napalm->netbox_netdev_inventory) (2.1.1)\n",
      "Requirement already satisfied: certifi>=2017.4.17 in /Library/Frameworks/Python.framework/Versions/3.8/lib/python3.8/site-packages (from requests>=2.7.0->napalm->netbox_netdev_inventory) (2022.9.24)\n",
      "Requirement already satisfied: idna<4,>=2.5 in /Library/Frameworks/Python.framework/Versions/3.8/lib/python3.8/site-packages (from requests>=2.7.0->napalm->netbox_netdev_inventory) (3.4)\n",
      "Requirement already satisfied: urllib3<1.27,>=1.21.1 in /Library/Frameworks/Python.framework/Versions/3.8/lib/python3.8/site-packages (from requests>=2.7.0->napalm->netbox_netdev_inventory) (1.26.12)\n",
      "Building wheels for collected packages: netbox_netdev_inventory, netboxapi\n",
      "  Building wheel for netbox_netdev_inventory (setup.py) ... \u001b[?25ldone\n",
      "\u001b[?25h  Created wheel for netbox_netdev_inventory: filename=netbox_netdev_inventory-0.2.3-py2.py3-none-any.whl size=26522 sha256=5f45ed04fbe7a2f055517249ac020b8824ceb0ab47b8abe2ee6a8195d54903b3\n",
      "  Stored in directory: /Users/kcarkov/Library/Caches/pip/wheels/56/45/ed/b2b805a620796c61c89090096eaf91ae3d67da327d0ef7b86b\n",
      "  Building wheel for netboxapi (setup.py) ... \u001b[?25ldone\n",
      "\u001b[?25h  Created wheel for netboxapi: filename=netboxapi-1.1.7-py3-none-any.whl size=6924 sha256=ccf1c2f4b95eb9715d84f3667b10e3f8776fb36ab2e822549547b856ffdf02c7\n",
      "  Stored in directory: /Users/kcarkov/Library/Caches/pip/wheels/b0/3e/e7/de808e96bc9d0e64664f9a4239e7c3fc09d0dad1579ff7cf17\n",
      "Successfully built netbox_netdev_inventory netboxapi\n",
      "Installing collected packages: appdirs, simplejson, defusedxml, cachetools, netboxapi, netbox_netdev_inventory\n",
      "Successfully installed appdirs-1.4.4 cachetools-5.3.0 defusedxml-0.7.1 netbox_netdev_inventory-0.2.3 netboxapi-1.1.7 simplejson-3.18.1\n",
      "\n",
      "\u001b[1m[\u001b[0m\u001b[34;49mnotice\u001b[0m\u001b[1;39;49m]\u001b[0m\u001b[39;49m A new release of pip available: \u001b[0m\u001b[31;49m22.3.1\u001b[0m\u001b[39;49m -> \u001b[0m\u001b[32;49m23.0\u001b[0m\n",
      "\u001b[1m[\u001b[0m\u001b[34;49mnotice\u001b[0m\u001b[1;39;49m]\u001b[0m\u001b[39;49m To update, run: \u001b[0m\u001b[32;49mpip install --upgrade pip\u001b[0m\n",
      "Note: you may need to restart the kernel to use updated packages.\n"
     ]
    }
   ],
   "source": [
    "pip install netbox_netdev_inventory"
   ]
  }
 ],
 "metadata": {
  "kernelspec": {
   "display_name": "Python 3.8.4 64-bit",
   "language": "python",
   "name": "python3"
  },
  "language_info": {
   "codemirror_mode": {
    "name": "ipython",
    "version": 3
   },
   "file_extension": ".py",
   "mimetype": "text/x-python",
   "name": "python",
   "nbconvert_exporter": "python",
   "pygments_lexer": "ipython3",
   "version": "3.8.4"
  },
  "orig_nbformat": 4,
  "vscode": {
   "interpreter": {
    "hash": "aee8b7b246df8f9039afb4144a1f6fd8d2ca17a180786b69acc140d282b71a49"
   }
  }
 },
 "nbformat": 4,
 "nbformat_minor": 2
}
