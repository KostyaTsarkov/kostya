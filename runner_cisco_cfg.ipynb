{
 "cells": [
  {
   "cell_type": "code",
   "execution_count": 6,
   "metadata": {},
   "outputs": [],
   "source": [
    "# Инициализируем Nornir\n",
    "from nornir import InitNornir\n",
    "from nornir_netmiko.tasks import netmiko_send_command, netmiko_send_config\n",
    "from nornir_jinja2.plugins.tasks import template_file\n",
    "from nornir_utils.plugins.functions import print_result\n",
    "from nornir.core.task import Task, Result\n",
    "from nornir_utils.plugins.tasks import networking\n",
    "from nornir_napalm.plugins.tasks import napalm_get"
   ]
  },
  {
   "cell_type": "code",
   "execution_count": 7,
   "metadata": {},
   "outputs": [],
   "source": [
    "# Загружаем профиль\n",
    "nr = InitNornir(config_file=\"./config.yml\",\n",
    "    runner={\n",
    "        \"plugin\": \"threaded\",\n",
    "        \"options\": {\n",
    "            \"num_workers\": 10,\n",
    "        },\n",
    "    },\n",
    "    inventory={\n",
    "        \"plugin\": \"SimpleInventory\",\n",
    "        \"options\": {\n",
    "            \"host_file\": \"./inventory/hosts.yml\",\n",
    "            \"group_file\": \"./inventory/groups.yml\",\n",
    "            \"defaults_file\": \"./inventory/defaults.yml\"\n",
    "        },\n",
    "    },\n",
    ")"
   ]
  },
  {
   "cell_type": "code",
   "execution_count": 8,
   "metadata": {},
   "outputs": [
    {
     "data": {
      "text/plain": [
       "' sw = nr.filter(type=\"l2\",)\\n#result = sw.run(task=napalm_get,getters=[\"facts\"])\\nresult = sw.run(netmiko_send_command, command_string=\"show ip int brief\")\\nprint_result(result) '"
      ]
     },
     "execution_count": 8,
     "metadata": {},
     "output_type": "execute_result"
    }
   ],
   "source": [
    "\"\"\" sw = nr.filter(type=\"l2\",)\n",
    "#result = sw.run(task=napalm_get,getters=[\"facts\"])\n",
    "result = sw.run(netmiko_send_command, command_string=\"show ip int brief\")\n",
    "print_result(result) \"\"\""
   ]
  },
  {
   "cell_type": "code",
   "execution_count": 9,
   "metadata": {},
   "outputs": [],
   "source": [
    "# Указываем путь к папке с шаблонами\n",
    "templates_path = \"./templates/\""
   ]
  },
  {
   "cell_type": "code",
   "execution_count": 10,
   "metadata": {},
   "outputs": [],
   "source": [
    "sw = nr.filter(type=\"l2\",)\n",
    "\n",
    "for host in sw.inventory.hosts.keys():\n",
    "   # print(nr.inventory.hosts[host])\n",
    "   # print(nr.inventory.hosts[host].data[\"interface_list\"])\n",
    "    nr.inventory.hosts[host].username = \"sa\"\n",
    "    nr.inventory.hosts[host].password = \"Qwerty11\"\n",
    "    nr.inventory.hosts[host].connection_options['netmiko'].extras['secret'] = \"Qwerty11\"\n",
    "    "
   ]
  },
  {
   "cell_type": "code",
   "execution_count": 11,
   "metadata": {},
   "outputs": [
    {
     "ename": "KeyboardInterrupt",
     "evalue": "",
     "output_type": "error",
     "traceback": [
      "\u001b[0;31m---------------------------------------------------------------------------\u001b[0m",
      "\u001b[0;31mKeyboardInterrupt\u001b[0m                         Traceback (most recent call last)",
      "Cell \u001b[0;32mIn[11], line 2\u001b[0m\n\u001b[1;32m      1\u001b[0m \u001b[38;5;66;03m#result = sw.run(netmiko_send_command, command_string=\"show ip int brief\")\u001b[39;00m\n\u001b[0;32m----> 2\u001b[0m result \u001b[38;5;241m=\u001b[39m sw\u001b[38;5;241m.\u001b[39mrun(task\u001b[38;5;241m=\u001b[39mnapalm_get,getters\u001b[38;5;241m=\u001b[39m[\u001b[38;5;124m\"\u001b[39m\u001b[38;5;124mfacts\u001b[39m\u001b[38;5;124m\"\u001b[39m])\n\u001b[1;32m      3\u001b[0m print_result(result)\n",
      "File \u001b[0;32m/Library/Frameworks/Python.framework/Versions/3.8/lib/python3.8/site-packages/nornir/core/__init__.py:139\u001b[0m, in \u001b[0;36mNornir.run\u001b[0;34m(self, task, raise_on_error, on_good, on_failed, name, **kwargs)\u001b[0m\n\u001b[1;32m    136\u001b[0m \u001b[39melse\u001b[39;00m:\n\u001b[1;32m    137\u001b[0m     logger\u001b[39m.\u001b[39mwarning(\u001b[39m\"\u001b[39m\u001b[39mTask \u001b[39m\u001b[39m%r\u001b[39;00m\u001b[39m has not been run – 0 hosts selected\u001b[39m\u001b[39m\"\u001b[39m, task\u001b[39m.\u001b[39mname)\n\u001b[0;32m--> 139\u001b[0m result \u001b[39m=\u001b[39m \u001b[39mself\u001b[39;49m\u001b[39m.\u001b[39;49mrunner\u001b[39m.\u001b[39;49mrun(task, run_on)\n\u001b[1;32m    141\u001b[0m raise_on_error \u001b[39m=\u001b[39m (\n\u001b[1;32m    142\u001b[0m     raise_on_error\n\u001b[1;32m    143\u001b[0m     \u001b[39mif\u001b[39;00m raise_on_error \u001b[39mis\u001b[39;00m \u001b[39mnot\u001b[39;00m \u001b[39mNone\u001b[39;00m\n\u001b[1;32m    144\u001b[0m     \u001b[39melse\u001b[39;00m \u001b[39mself\u001b[39m\u001b[39m.\u001b[39mconfig\u001b[39m.\u001b[39mcore\u001b[39m.\u001b[39mraise_on_error\n\u001b[1;32m    145\u001b[0m )  \u001b[39m# noqa\u001b[39;00m\n\u001b[1;32m    146\u001b[0m \u001b[39mif\u001b[39;00m raise_on_error:\n",
      "File \u001b[0;32m/Library/Frameworks/Python.framework/Versions/3.8/lib/python3.8/site-packages/nornir/plugins/runners/__init__.py:40\u001b[0m, in \u001b[0;36mThreadedRunner.run\u001b[0;34m(self, task, hosts)\u001b[0m\n\u001b[1;32m     38\u001b[0m     \u001b[39mfor\u001b[39;00m host \u001b[39min\u001b[39;00m hosts:\n\u001b[1;32m     39\u001b[0m         future \u001b[39m=\u001b[39m pool\u001b[39m.\u001b[39msubmit(task\u001b[39m.\u001b[39mcopy()\u001b[39m.\u001b[39mstart, host)\n\u001b[0;32m---> 40\u001b[0m         futures\u001b[39m.\u001b[39mappend(future)\n\u001b[1;32m     42\u001b[0m \u001b[39mfor\u001b[39;00m future \u001b[39min\u001b[39;00m futures:\n\u001b[1;32m     43\u001b[0m     worker_result \u001b[39m=\u001b[39m future\u001b[39m.\u001b[39mresult()\n",
      "File \u001b[0;32m/Library/Frameworks/Python.framework/Versions/3.8/lib/python3.8/concurrent/futures/_base.py:636\u001b[0m, in \u001b[0;36mExecutor.__exit__\u001b[0;34m(self, exc_type, exc_val, exc_tb)\u001b[0m\n\u001b[1;32m    635\u001b[0m \u001b[39mdef\u001b[39;00m \u001b[39m__exit__\u001b[39m(\u001b[39mself\u001b[39m, exc_type, exc_val, exc_tb):\n\u001b[0;32m--> 636\u001b[0m     \u001b[39mself\u001b[39;49m\u001b[39m.\u001b[39;49mshutdown(wait\u001b[39m=\u001b[39;49m\u001b[39mTrue\u001b[39;49;00m)\n\u001b[1;32m    637\u001b[0m     \u001b[39mreturn\u001b[39;00m \u001b[39mFalse\u001b[39;00m\n",
      "File \u001b[0;32m/Library/Frameworks/Python.framework/Versions/3.8/lib/python3.8/concurrent/futures/thread.py:236\u001b[0m, in \u001b[0;36mThreadPoolExecutor.shutdown\u001b[0;34m(self, wait)\u001b[0m\n\u001b[1;32m    234\u001b[0m \u001b[39mif\u001b[39;00m wait:\n\u001b[1;32m    235\u001b[0m     \u001b[39mfor\u001b[39;00m t \u001b[39min\u001b[39;00m \u001b[39mself\u001b[39m\u001b[39m.\u001b[39m_threads:\n\u001b[0;32m--> 236\u001b[0m         t\u001b[39m.\u001b[39;49mjoin()\n",
      "File \u001b[0;32m/Library/Frameworks/Python.framework/Versions/3.8/lib/python3.8/threading.py:1011\u001b[0m, in \u001b[0;36mThread.join\u001b[0;34m(self, timeout)\u001b[0m\n\u001b[1;32m   1008\u001b[0m     \u001b[39mraise\u001b[39;00m \u001b[39mRuntimeError\u001b[39;00m(\u001b[39m\"\u001b[39m\u001b[39mcannot join current thread\u001b[39m\u001b[39m\"\u001b[39m)\n\u001b[1;32m   1010\u001b[0m \u001b[39mif\u001b[39;00m timeout \u001b[39mis\u001b[39;00m \u001b[39mNone\u001b[39;00m:\n\u001b[0;32m-> 1011\u001b[0m     \u001b[39mself\u001b[39;49m\u001b[39m.\u001b[39;49m_wait_for_tstate_lock()\n\u001b[1;32m   1012\u001b[0m \u001b[39melse\u001b[39;00m:\n\u001b[1;32m   1013\u001b[0m     \u001b[39m# the behavior of a negative timeout isn't documented, but\u001b[39;00m\n\u001b[1;32m   1014\u001b[0m     \u001b[39m# historically .join(timeout=x) for x<0 has acted as if timeout=0\u001b[39;00m\n\u001b[1;32m   1015\u001b[0m     \u001b[39mself\u001b[39m\u001b[39m.\u001b[39m_wait_for_tstate_lock(timeout\u001b[39m=\u001b[39m\u001b[39mmax\u001b[39m(timeout, \u001b[39m0\u001b[39m))\n",
      "File \u001b[0;32m/Library/Frameworks/Python.framework/Versions/3.8/lib/python3.8/threading.py:1027\u001b[0m, in \u001b[0;36mThread._wait_for_tstate_lock\u001b[0;34m(self, block, timeout)\u001b[0m\n\u001b[1;32m   1025\u001b[0m \u001b[39mif\u001b[39;00m lock \u001b[39mis\u001b[39;00m \u001b[39mNone\u001b[39;00m:  \u001b[39m# already determined that the C code is done\u001b[39;00m\n\u001b[1;32m   1026\u001b[0m     \u001b[39massert\u001b[39;00m \u001b[39mself\u001b[39m\u001b[39m.\u001b[39m_is_stopped\n\u001b[0;32m-> 1027\u001b[0m \u001b[39melif\u001b[39;00m lock\u001b[39m.\u001b[39;49macquire(block, timeout):\n\u001b[1;32m   1028\u001b[0m     lock\u001b[39m.\u001b[39mrelease()\n\u001b[1;32m   1029\u001b[0m     \u001b[39mself\u001b[39m\u001b[39m.\u001b[39m_stop()\n",
      "\u001b[0;31mKeyboardInterrupt\u001b[0m: "
     ]
    }
   ],
   "source": [
    "#result = sw.run(netmiko_send_command, command_string=\"show ip int brief\")\n",
    "result = sw.run(task=napalm_get,getters=[\"facts\"])\n",
    "print_result(result)"
   ]
  },
  {
   "cell_type": "code",
   "execution_count": null,
   "metadata": {},
   "outputs": [],
   "source": [
    "\"\"\" def get_config(task):\n",
    "    r = task.run(\n",
    "        task=networking.\n",
    "    ) \"\"\""
   ]
  },
  {
   "cell_type": "code",
   "execution_count": null,
   "metadata": {},
   "outputs": [],
   "source": [
    "\"\"\" config = sw.run(\n",
    "    name='Получение конфигурации',\n",
    "    task=get_config\n",
    ")\n",
    "print_result(config) \"\"\""
   ]
  },
  {
   "cell_type": "code",
   "execution_count": null,
   "metadata": {},
   "outputs": [],
   "source": [
    "def config_switches(task:Task) -> Result:\n",
    "    # ------------------------------- Configure the interface -------------------------------------------------------------------------------------------------------------------- ----------------\n",
    "    # Получаем шаблон и отправляем в конфигурацию\n",
    "    ios_interface_template = task.run(\n",
    "        name='2 шаг. 1: Получаем шаблон конфигурации интерфейсов',  # mission name\n",
    "        task=template_file,   # The purpose of the task is to get the configuration template, fixed value\n",
    "        template='cisco_ios_interface.template',\n",
    "        path=templates_path\n",
    "    )\n",
    "\n",
    "    # Introducing in a specific configuration, configuring the device, pay attention to \".split ('\\ n')\" Convert configuration to a list\n",
    "    task.run(\n",
    "        task=netmiko_send_config,  # The purpose of the task is to complete the configuration, fixed value through Netmiko.\n",
    "        name='2 шаг. 2: Настройка интерфейсов',\n",
    "        config_commands=ios_interface_template.result.split('\\n'), # Convert template information to a list, then configure it via NetMiko\n",
    "        cmd_verify=True\n",
    "    )\n",
    "    \n",
    "    # --------------------------------- Configure administrator information ----------------------------\n",
    "    # Получаем шаблон и отправляем в конфигурацию\n",
    "    ios_user_template = task.run(\n",
    "        name='2-1: Получаем шаблон конфигурации пользователей',\n",
    "        task=template_file,\n",
    "        template='cisco_ios_user.template',\n",
    "        path=templates_path\n",
    "    )\n",
    "    task.run(\n",
    "        task=netmiko_send_config,\n",
    "        name='2-2: Настройка пользователей',\n",
    "        config_commands=ios_user_template.result.split('\\n'),\n",
    "        cmd_verify=True\n",
    "    ) \n",
    "    #-------------DNS-------------\n",
    "    ios_dns_template = task.run(\n",
    "        name='3-1: Получаем шаблон конфигурации dns',\n",
    "        task=template_file,\n",
    "        template='cisco_ios_dns.template',\n",
    "        path=templates_path\n",
    "    )\n",
    "    task.run(\n",
    "        task=netmiko_send_config,\n",
    "        name='3-2: Настройка dns',\n",
    "        config_commands=ios_dns_template.result.split('\\n'),\n",
    "        cmd_verify=True\n",
    "    ) \n",
    "    #-------------NTP-------------\n",
    "    ios_ntp_template = task.run(\n",
    "        name='4-1: Получаем шаблон конфигурации ntp',\n",
    "        task=template_file,\n",
    "        template='cisco_ios_ntp.template',\n",
    "        path=templates_path\n",
    "    )\n",
    "    task.run(\n",
    "        task=netmiko_send_config,\n",
    "        name='4-2: Настройка ntp',\n",
    "        config_commands=ios_ntp_template.result.split('\\n'),\n",
    "        cmd_verify=True\n",
    "    )\n",
    "   #-------------LOG-------------\n",
    "    ios_logging_template = task.run(\n",
    "        name='5-1: Получаем шаблон конфигурации logging',\n",
    "        task=template_file,\n",
    "        template='cisco_ios_logging.template',\n",
    "        path=templates_path\n",
    "    )\n",
    "    task.run(\n",
    "        task=netmiko_send_config,\n",
    "        name='5-2: Настройка syslog',\n",
    "        config_commands=ios_logging_template.result.split('\\n'),\n",
    "        cmd_verify=True\n",
    "    )\n",
    "    #-------------END-------------\n",
    "    return Result(\n",
    "        host=task.host,\n",
    "        result=f\"{task.host} доступен\"\n",
    "    )"
   ]
  },
  {
   "cell_type": "code",
   "execution_count": null,
   "metadata": {},
   "outputs": [],
   "source": [
    "run_result = sw.run(task=config_switches,name='Настройка коммутаторов')\n",
    "print_result(run_result)"
   ]
  }
 ],
 "metadata": {
  "kernelspec": {
   "display_name": "Python 3.8.4 64-bit",
   "language": "python",
   "name": "python3"
  },
  "language_info": {
   "codemirror_mode": {
    "name": "ipython",
    "version": 3
   },
   "file_extension": ".py",
   "mimetype": "text/x-python",
   "name": "python",
   "nbconvert_exporter": "python",
   "pygments_lexer": "ipython3",
   "version": "3.8.4"
  },
  "orig_nbformat": 4,
  "vscode": {
   "interpreter": {
    "hash": "aee8b7b246df8f9039afb4144a1f6fd8d2ca17a180786b69acc140d282b71a49"
   }
  }
 },
 "nbformat": 4,
 "nbformat_minor": 2
}
