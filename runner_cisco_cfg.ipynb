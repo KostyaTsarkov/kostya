{
 "cells": [
  {
   "cell_type": "code",
   "execution_count": 6,
   "metadata": {},
   "outputs": [],
   "source": [
    "# Инициализируем Nornir\n",
    "from nornir import InitNornir\n",
    "from nornir_netmiko.tasks import netmiko_send_command, netmiko_send_config\n",
    "from nornir_jinja2.plugins.tasks import template_file\n",
    "from nornir_utils.plugins.functions import print_result\n",
    "from nornir.core.task import Task, Result\n",
    "from nornir_utils.plugins.tasks import networking\n",
    "from nornir_napalm.plugins.tasks import napalm_get"
   ]
  },
  {
   "cell_type": "code",
   "execution_count": 7,
   "metadata": {},
   "outputs": [],
   "source": [
    "# Загружаем профиль\n",
    "nr = InitNornir(config_file=\"./config.yml\",\n",
    "    runner={\n",
    "        \"plugin\": \"threaded\",\n",
    "        \"options\": {\n",
    "            \"num_workers\": 10,\n",
    "        },\n",
    "    },\n",
    "    inventory={\n",
    "        \"plugin\": \"SimpleInventory\",\n",
    "        \"options\": {\n",
    "            \"host_file\": \"./inventory/hosts.yml\",\n",
    "            \"group_file\": \"./inventory/groups.yml\",\n",
    "            \"defaults_file\": \"./inventory/defaults.yml\"\n",
    "        },\n",
    "    },\n",
    ")"
   ]
  },
  {
   "cell_type": "code",
   "execution_count": 8,
   "metadata": {},
   "outputs": [
    {
     "data": {
      "text/plain": [
       "' sw = nr.filter(type=\"l2\",)\\n#result = sw.run(task=napalm_get,getters=[\"facts\"])\\nresult = sw.run(netmiko_send_command, command_string=\"show ip int brief\")\\nprint_result(result) '"
      ]
     },
     "execution_count": 8,
     "metadata": {},
     "output_type": "execute_result"
    }
   ],
   "source": [
    "\"\"\" sw = nr.filter(type=\"l2\",)\n",
    "#result = sw.run(task=napalm_get,getters=[\"facts\"])\n",
    "result = sw.run(netmiko_send_command, command_string=\"show ip int brief\")\n",
    "print_result(result) \"\"\""
   ]
  },
  {
   "cell_type": "code",
   "execution_count": 9,
   "metadata": {},
   "outputs": [],
   "source": [
    "# Указываем путь к папке с шаблонами\n",
    "templates_path = \"./templates/\""
   ]
  },
  {
   "cell_type": "code",
   "execution_count": 10,
   "metadata": {},
   "outputs": [],
   "source": [
    "sw = nr.filter(type=\"l2\",)\n",
    "\n",
    "for host in sw.inventory.hosts.keys():\n",
    "   # print(nr.inventory.hosts[host])\n",
    "   # print(nr.inventory.hosts[host].data[\"interface_list\"])\n",
    "    nr.inventory.hosts[host].username = \"sa\"\n",
    "    nr.inventory.hosts[host].password = \"Qwerty11\"\n",
    "    nr.inventory.hosts[host].connection_options['netmiko'].extras['secret'] = \"Qwerty11\"\n",
    "    "
   ]
  },
  {
   "cell_type": "code",
   "execution_count": null,
   "metadata": {},
   "outputs": [],
   "source": [
    "#result = sw.run(netmiko_send_command, command_string=\"show ip int brief\")\n",
    "result = sw.run(task=napalm_get,getters=[\"facts\"])\n",
    "print_result(result)"
   ]
  },
  {
   "cell_type": "code",
   "execution_count": null,
   "metadata": {},
   "outputs": [],
   "source": [
    "\"\"\" def get_config(task):\n",
    "    r = task.run(\n",
    "        task=networking.\n",
    "    ) \"\"\""
   ]
  },
  {
   "cell_type": "code",
   "execution_count": null,
   "metadata": {},
   "outputs": [],
   "source": [
    "\"\"\" config = sw.run(\n",
    "    name='Получение конфигурации',\n",
    "    task=get_config\n",
    ")\n",
    "print_result(config) \"\"\""
   ]
  },
  {
   "cell_type": "code",
   "execution_count": null,
   "metadata": {},
   "outputs": [],
   "source": [
    "def config_switches(task:Task) -> Result:\n",
    "    # ------------------------------- Configure the interface -------------------------------------------------------------------------------------------------------------------- ----------------\n",
    "    # Получаем шаблон и отправляем в конфигурацию\n",
    "    ios_interface_template = task.run(\n",
    "        name='2 шаг. 1: Получаем шаблон конфигурации интерфейсов',  # mission name\n",
    "        task=template_file,   # The purpose of the task is to get the configuration template, fixed value\n",
    "        template='cisco_ios_interface.template',\n",
    "        path=templates_path\n",
    "    )\n",
    "\n",
    "    # Introducing in a specific configuration, configuring the device, pay attention to \".split ('\\ n')\" Convert configuration to a list\n",
    "    task.run(\n",
    "        task=netmiko_send_config,  # The purpose of the task is to complete the configuration, fixed value through Netmiko.\n",
    "        name='2 шаг. 2: Настройка интерфейсов',\n",
    "        config_commands=ios_interface_template.result.split('\\n'), # Convert template information to a list, then configure it via NetMiko\n",
    "        cmd_verify=True\n",
    "    )\n",
    "    \n",
    "    # --------------------------------- Configure administrator information ----------------------------\n",
    "    # Получаем шаблон и отправляем в конфигурацию\n",
    "    ios_user_template = task.run(\n",
    "        name='2-1: Получаем шаблон конфигурации пользователей',\n",
    "        task=template_file,\n",
    "        template='cisco_ios_user.template',\n",
    "        path=templates_path\n",
    "    )\n",
    "    task.run(\n",
    "        task=netmiko_send_config,\n",
    "        name='2-2: Настройка пользователей',\n",
    "        config_commands=ios_user_template.result.split('\\n'),\n",
    "        cmd_verify=True\n",
    "    ) \n",
    "    #-------------DNS-------------\n",
    "    ios_dns_template = task.run(\n",
    "        name='3-1: Получаем шаблон конфигурации dns',\n",
    "        task=template_file,\n",
    "        template='cisco_ios_dns.template',\n",
    "        path=templates_path\n",
    "    )\n",
    "    task.run(\n",
    "        task=netmiko_send_config,\n",
    "        name='3-2: Настройка dns',\n",
    "        config_commands=ios_dns_template.result.split('\\n'),\n",
    "        cmd_verify=True\n",
    "    ) \n",
    "    #-------------NTP-------------\n",
    "    ios_ntp_template = task.run(\n",
    "        name='4-1: Получаем шаблон конфигурации ntp',\n",
    "        task=template_file,\n",
    "        template='cisco_ios_ntp.template',\n",
    "        path=templates_path\n",
    "    )\n",
    "    task.run(\n",
    "        task=netmiko_send_config,\n",
    "        name='4-2: Настройка ntp',\n",
    "        config_commands=ios_ntp_template.result.split('\\n'),\n",
    "        cmd_verify=True\n",
    "    )\n",
    "   #-------------LOG-------------\n",
    "    ios_logging_template = task.run(\n",
    "        name='5-1: Получаем шаблон конфигурации logging',\n",
    "        task=template_file,\n",
    "        template='cisco_ios_logging.template',\n",
    "        path=templates_path\n",
    "    )\n",
    "    task.run(\n",
    "        task=netmiko_send_config,\n",
    "        name='5-2: Настройка syslog',\n",
    "        config_commands=ios_logging_template.result.split('\\n'),\n",
    "        cmd_verify=True\n",
    "    )\n",
    "    #-------------END-------------\n",
    "    return Result(\n",
    "        host=task.host,\n",
    "        result=f\"{task.host} доступен\"\n",
    "    )"
   ]
  },
  {
   "cell_type": "code",
   "execution_count": null,
   "metadata": {},
   "outputs": [],
   "source": [
    "run_result = sw.run(task=config_switches,name='Настройка коммутаторов')\n",
    "print_result(run_result)"
   ]
  }
 ],
 "metadata": {
  "kernelspec": {
   "display_name": "Python 3",
   "language": "python",
   "name": "python3"
  },
  "language_info": {
   "codemirror_mode": {
    "name": "ipython",
    "version": 3
   },
   "file_extension": ".py",
   "mimetype": "text/x-python",
   "name": "python",
   "nbconvert_exporter": "python",
   "pygments_lexer": "ipython3",
   "version": "3.7.8 (tags/v3.7.8:4b47a5b6ba, Jun 28 2020, 08:53:46) [MSC v.1916 64 bit (AMD64)]"
  },
  "orig_nbformat": 4,
  "vscode": {
   "interpreter": {
    "hash": "0a54084e6b208ee8d1ce3989ffc20924477a5f55f5a43e22e699a6741623861e"
   }
  }
 },
 "nbformat": 4,
 "nbformat_minor": 2
}
