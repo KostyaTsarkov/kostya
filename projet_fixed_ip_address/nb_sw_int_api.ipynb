{
 "cells": [
  {
   "cell_type": "code",
   "execution_count": null,
   "metadata": {},
   "outputs": [],
   "source": [
    "\n",
    "import time\n",
    "from flask import request, Response\n",
    "from flask import Flask\n",
    "from config import netbox_api\n",
    "from jinja2 import Environment, FileSystemLoader\n",
    "from nornir_napalm.plugins.tasks import napalm_get, napalm_cli\n",
    "import pprint\n",
    "from nornir_utils.plugins.functions import print_result\n",
    "from nornir.core.task import Task, Result\n",
    "from nornir_jinja2.plugins.tasks import template_file\n",
    "from nornir_netmiko.tasks import netmiko_send_command, netmiko_send_config\n",
    "import re\n",
    "\n",
    "from credentials import(netbox_url,\n",
    "                        netbox_token,\n",
    "                        device_username,\n",
    "                        device_password)\n",
    "from nornir import InitNornir\n",
    "from nornir.core.filter import F"
   ]
  },
  {
   "cell_type": "code",
   "execution_count": null,
   "metadata": {},
   "outputs": [],
   "source": [
    "def create_nornir_session():\n",
    "    \"\"\" \n",
    "    Инициализируем nornir, но для \"hosts\" используем данные из netbox\n",
    "    :return: nr_session\n",
    "    \"\"\"\n",
    "    nr_session = InitNornir(\n",
    "        inventory={\n",
    "            \"plugin\": \"NetBoxInventory2\",\n",
    "            \"options\": {\n",
    "                \"nb_url\": netbox_url,\n",
    "                \"nb_token\": netbox_token,\n",
    "                \"group_file\": \"./inventory/groups.yml\",\n",
    "                \"defaults_file\": \"./inventory/defaults.yml\",\n",
    "            },\n",
    "        },\n",
    "    )\n",
    "    return nr_session"
   ]
  },
  {
   "cell_type": "code",
   "execution_count": null,
   "metadata": {},
   "outputs": [],
   "source": [
    "def conversion(tup, dict = {}):\n",
    "    for x, y in tup:\n",
    "        dict.setdefault(x, []).append(y)\n",
    "    return dict"
   ]
  },
  {
   "cell_type": "code",
   "execution_count": null,
   "metadata": {},
   "outputs": [],
   "source": [
    "templates_path = \"./templates/\""
   ]
  },
  {
   "attachments": {},
   "cell_type": "markdown",
   "metadata": {},
   "source": [
    "Заполняем шаблон"
   ]
  },
  {
   "cell_type": "code",
   "execution_count": null,
   "metadata": {},
   "outputs": [],
   "source": [
    "def cisco_config_interface(j2_interface,event='None'):\n",
    "    \"\"\" \n",
    "    Заполнение шаблона значениями\n",
    "    :param j2_interface: интерфейс \n",
    "    :param event: событие\n",
    "    :return: None\n",
    "    \"\"\"   \n",
    " \n",
    "    environment = Environment(loader=FileSystemLoader(templates_path)) # загружаем шаблон для заполнения\n",
    "    template = environment.get_template(\"cisco_ios_access_interface.template\")\n",
    "\n",
    "    content = template.render( # заполняем шаблон\n",
    "                                interface_name = j2_interface.name,\n",
    "                                descr = j2_interface.description,\n",
    "                                access_vlan = j2_interface.untagged_vlan.vid,\n",
    "                                mode = j2_interface.mode.value\n",
    "                            )\n",
    "    print(\"Filling in the template...\\n{}\".format(content))    \n",
    "\n",
    "    return content\n",
    "\n",
    "#get_device_interface = netbox_api.dcim.interfaces.get(136)\n",
    "#cisco_config_interface(get_device_interface)"
   ]
  },
  {
   "attachments": {},
   "cell_type": "markdown",
   "metadata": {},
   "source": [
    "Отправляем готовый конфиг на устройство"
   ]
  },
  {
   "cell_type": "code",
   "execution_count": null,
   "metadata": {},
   "outputs": [],
   "source": [
    "def ios_config_interfaces(task: Task) -> Result:\n",
    "    \"\"\" \n",
    "    Основная задача: конфигурация интерфейса\n",
    "    \"\"\"\n",
    "    #template = cisco_config_interface(netbox_interface)\n",
    "    \n",
    "    \"\"\" ios_interface_template = task.run(  # Подзадача: получаем шаблон\n",
    "        name = 'Get the configuration template, fixed value...',\n",
    "        task = template_file, # функция, импортированная из \"nornir_jinja2.plugins.tasks\"\n",
    "        template = 'cisco_ios_interface.template', \n",
    "        path = templates_path \n",
    "    ) \"\"\"\n",
    "    task.run(\n",
    "            netmiko_send_config, # функция, импортированная из \"nornir_netmiko.tasks\",\n",
    "            name=\"Configuration interface.../\",\n",
    "            config_commands = template.result.split('\\n'),\n",
    "                    cmd_verify = True\n",
    "            )\n",
    "    #print(ios_interface_template)\n",
    "    \n",
    "    return Result(\n",
    "        host=task.host,\n",
    "        result=\"На {} конфигурация передана...\".format(task.host)\n",
    "    )"
   ]
  },
  {
   "attachments": {},
   "cell_type": "markdown",
   "metadata": {},
   "source": [
    "Получаем через napalm интерфейсы с устройства"
   ]
  },
  {
   "cell_type": "code",
   "execution_count": null,
   "metadata": {},
   "outputs": [],
   "source": [
    "def push_config_interface(netbox_interface):\n",
    "    \"\"\"  \n",
    "    Проверка соответствия портов между netbox и реальным устройством\n",
    "    :param netbox_interface: ссылка на объект интерфейса pynetbox\n",
    "    :return: None\n",
    "    \"\"\"\n",
    "    attempts = 3 # количество попыток подключения\n",
    "    timeout = 5 # время ожидания между попытками в секундах\n",
    "    name = netbox_interface.name # избавляемся от пробелов и игнорируем регистр\n",
    "    filter_query = '10.30.1.105'\n",
    "    nr = create_nornir_session()\n",
    "    sw = nr.filter(hostname = filter_query) # производим отбор по конкретному хосту\n",
    "    \n",
    "    for _ in range(attempts):\n",
    "        get_int = sw.run(task=napalm_get, getters=['get_interfaces']) # получаем все интерфейсы с устройства в виде словаря\n",
    "        if get_int.failed == False: \n",
    "            print('Connection state is connected...')\n",
    "            break\n",
    "        else:\n",
    "            print('Connection state is failed...')\n",
    "            time.sleep(timeout)\n",
    "\n",
    "    for device in get_int.values():\n",
    "        interfaces = device.result['get_interfaces'].keys() # получаем интерфейсы как ключи словаря\n",
    "        if name in (intf for intf in list(interfaces)):\n",
    "            print(\"Find {} for device {}\".format(name, device.host))\n",
    "    \n",
    "    \n",
    "    #result = sw.run(task=ios_config_interfaces,name='Настройка коммутаторов') \n",
    "    result = sw.run(netmiko_send_config,config_commands=cisco_config_interface(netbox_interface).split('\\n'))\n",
    "    print_result(result)\n",
    "    sw.close_connections()\n",
    "    \n",
    "#push_config_interface(netbox_api.dcim.interfaces.get(136))\n"
   ]
  },
  {
   "cell_type": "code",
   "execution_count": null,
   "metadata": {},
   "outputs": [],
   "source": [
    "def delete_config_intf(netbox_interface):\n",
    "    \n",
    "    print(\"Delete interface {} config...\".format(netbox_interface))\n",
    "    "
   ]
  },
  {
   "cell_type": "code",
   "execution_count": null,
   "metadata": {},
   "outputs": [],
   "source": [
    "def create_config_intf(netbox_interface):\n",
    "    \n",
    "    print(\"Push new interface {} config...\".format(netbox_interface))"
   ]
  },
  {
   "cell_type": "code",
   "execution_count": null,
   "metadata": {},
   "outputs": [],
   "source": [
    "def update_config_intf(netbox_interface):\n",
    "    \n",
    "    print(\"Updating interface {} config...\".format(netbox_interface))\n",
    "    push_config_interface(netbox_interface)"
   ]
  },
  {
   "cell_type": "code",
   "execution_count": null,
   "metadata": {},
   "outputs": [],
   "source": [
    "def manage_device_interfaces():\n",
    "    \n",
    "    devices_keys = ['role','device_id','intf_id'] # список ключей для словаря devices\n",
    "    devices = [] \n",
    "    templates_roles = ['access_switch', 'user_device'] # получаем из netbox (произвольные данные)\n",
    "    device_roles = []\n",
    "    regex = \"[a|b]_terminations\"\n",
    "    \n",
    "    get_device_cable = conversion(list(netbox_api.dcim.cables.get(request.json[\"data\"][\"id\"])))\n",
    "    #get_device_cable = conversion(list(netbox_api.dcim.cables.get('306')))\n",
    "\n",
    "    for key in get_device_cable.keys(): # заполняем список device_value и объединяем с device_keys в словарь\n",
    "        if re.match(regex, key): # отбираем нужные ключи из словаря по регулярке\n",
    "            devices_values = []\n",
    "            device_id = get_device_cable[key][0][0]['device']['id']\n",
    "            devices_values.append(netbox_api.dcim.devices.get(device_id).device_role.slug) # роль устройства\n",
    "            devices_values.append(device_id) # id устройства\n",
    "            devices_values.append(get_device_cable[key][0][0]['id']) # id интерфейса устройства\n",
    "            devices.append(dict(zip(devices_keys,devices_values))) # получаем список из словарей\n",
    "            print(\"Dictionary append into list...\")\n",
    "    \n",
    "    for device in devices: # заполняем список ролей\n",
    "        device_roles.append(device['role'])\n",
    "     \n",
    "    if set(device_roles) == set(templates_roles): # проверяем, что получили устройства с разными ролями и в соответствии со списком    \n",
    "        for device in devices:\n",
    "            if device['role'] == templates_roles[0]: # нам нужен access switch\n",
    "                device_intf_id = device['intf_id'] # получаем ID интерфейса access switchа из, нами созданного, словаря            \n",
    "        get_device_interface = netbox_api.dcim.interfaces.get(device_intf_id) # по ID находим интерфейс в netbox    \n",
    "        print(\"List is equal {}, switch access interface ID: {}...\".format(device_roles, device_intf_id))\n",
    "        if get_device_interface.mgmt_only: # проверяем, является ли интерфейс management интерфейсов\n",
    "            print(\"\\tManagement interface, no changes will be performed...\")\n",
    "        else: update_config_intf(netbox_interface=get_device_interface)\n",
    "        \n",
    "        \"\"\" if request.json[\"event\"] == \"deleted\": # Конфиг интерфейса адрес будет удален\n",
    "\n",
    "                delete_config_intf( netbox_interface=get_device_interface\n",
    "                                    )\n",
    "\n",
    "            elif request.json[\"event\"] == \"created\": # Конфиг интерфейса будет добавлен\n",
    "\n",
    "                create_config_intf( netbox_interface=get_device_interface)\n",
    "\n",
    "            elif request.json[\"event\"] == \"updated\": # Конфиг интерфейса будет изменен\n",
    "\n",
    "                update_config_intf( netbox_interface=get_device_interface\n",
    "                                    )\n",
    "            \"\"\"\n",
    "    else: print(\"List is not equal\")\n",
    "    \n",
    "        \n",
    "    return Response(status=204)\n",
    "#manage_device_interfaces()"
   ]
  },
  {
   "cell_type": "code",
   "execution_count": null,
   "metadata": {},
   "outputs": [],
   "source": [
    "# Create a Flask instance\n",
    "app = Flask(__name__)\n",
    "app.add_url_rule(\"/api/config_intf\",\n",
    "                methods=['POST'],\n",
    "                view_func=manage_device_interfaces)\n",
    "    \n",
    "if __name__ == \"__main__\": \n",
    "    app.run(host='0.0.0.0', port=8080)\n"
   ]
  }
 ],
 "metadata": {
  "kernelspec": {
   "display_name": "Python 3",
   "language": "python",
   "name": "python3"
  },
  "language_info": {
   "codemirror_mode": {
    "name": "ipython",
    "version": 3
   },
   "file_extension": ".py",
   "mimetype": "text/x-python",
   "name": "python",
   "nbconvert_exporter": "python",
   "pygments_lexer": "ipython3",
   "version": "3.7.8"
  },
  "orig_nbformat": 4,
  "vscode": {
   "interpreter": {
    "hash": "0a54084e6b208ee8d1ce3989ffc20924477a5f55f5a43e22e699a6741623861e"
   }
  }
 },
 "nbformat": 4,
 "nbformat_minor": 2
}
