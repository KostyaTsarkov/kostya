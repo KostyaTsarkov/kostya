{
 "cells": [
  {
   "cell_type": "markdown",
   "metadata": {},
   "source": [
    "Подключаем библиотеки"
   ]
  },
  {
   "cell_type": "code",
   "execution_count": 198,
   "metadata": {},
   "outputs": [],
   "source": [
    "\n",
    "from flask import Flask, request, Response\n",
    "from nornir import InitNornir\n",
    "import pynetbox\n",
    "import ipaddress\n",
    "from jinja2 import Environment, FileSystemLoader\n",
    "import json\n",
    "import macaddress\n",
    "from pydhcpdparser import parser"
   ]
  },
  {
   "cell_type": "markdown",
   "metadata": {},
   "source": [
    "Инициализируем nornir"
   ]
  },
  {
   "cell_type": "code",
   "execution_count": 199,
   "metadata": {},
   "outputs": [],
   "source": [
    "# Init Nornir\n",
    "nr = InitNornir(\n",
    "    inventory={\n",
    "        \"plugin\": \"NetBoxInventory2\",\n",
    "        \"options\": {\n",
    "            \"nb_url\": \"http://10.30.1.101:8000\",\n",
    "            \"nb_token\": \"dc5b766afda60e647a9fcc384c736a9689da8618\",\n",
    "            \"group_file\": \"./inventory/groups.yml\",\n",
    "            \"defaults_file\": \"./inventory/defaults.yml\",\n",
    "        },\n",
    "    },\n",
    ")"
   ]
  },
  {
   "cell_type": "markdown",
   "metadata": {},
   "source": [
    "Инициализируем pynetbox"
   ]
  },
  {
   "cell_type": "code",
   "execution_count": 200,
   "metadata": {},
   "outputs": [],
   "source": [
    "# Init pynetbox\n",
    "nb_url = nr.config.inventory.options['nb_url']\n",
    "nb_token = nr.config.inventory.options['nb_token']\n",
    "nb = pynetbox.api(\n",
    "    nb_url,\n",
    "    token=nb_token\n",
    ")"
   ]
  },
  {
   "cell_type": "code",
   "execution_count": 201,
   "metadata": {},
   "outputs": [],
   "source": [
    "def convert_to_str(value):\n",
    "    return '' if value is None else str(value)"
   ]
  },
  {
   "cell_type": "code",
   "execution_count": 202,
   "metadata": {},
   "outputs": [],
   "source": [
    "def configure_interface_ipv4_address(netbox_ip_address):\n",
    "    \"\"\"\n",
    "    Извлечение IPv4 адреса, маски, сети, префикса, шлюза.\n",
    "    :param netbox_ip_address: IPv4 адрес (IP/Prefix)\n",
    "    :return: ip4_address\n",
    "    \"\"\"\n",
    "\n",
    "    ip4_address = format(ipaddress.IPv4Interface(netbox_ip_address).ip)\n",
    "    ip4_netmask = format(ipaddress.IPv4Interface(netbox_ip_address).netmask)\n",
    "    ip4_network = format(ipaddress.IPv4Interface(netbox_ip_address).network)\n",
    "    ip4_prefix = format(ipaddress.IPv4Network(ip4_network).prefixlen)\n",
    "    ip4_broadcast = format(ipaddress.IPv4Network(ip4_network).broadcast_address)\n",
    "    ip4_gateway = format(list(ipaddress.IPv4Network(ip4_network).hosts())[-1])\n",
    "    #print(ip4_address,ip4_netmask, ip4_network, ip4_prefix, ip4_broadcast, ip4_gateway)\n",
    "\n",
    "    return(ip4_address)"
   ]
  },
  {
   "cell_type": "code",
   "execution_count": 203,
   "metadata": {},
   "outputs": [],
   "source": [
    "def confiugure_interface_mac_address(netbox_mac_address):\n",
    "    #netbox_mac_address = '2A:2F:0A:9F:A8:B5'\n",
    "    #netbox_mac_address = None\n",
    "\n",
    "    netbox_mac_address = convert_to_str(netbox_mac_address)\n",
    "    mac_address = netbox_mac_address\n",
    "    hw_addr = macaddress\n",
    "    try:\n",
    "        hw_addr.MAC(mac_address)\n",
    "    except ValueError as error:\n",
    "        #print(error)\n",
    "        mac_address = None\n",
    "    print(\"MAC address is {}...\".format(mac_address))\n",
    "    return(mac_address)\n",
    "\n",
    "#mac_address = None\n",
    "#confiugure_interface_mac_address(mac_address)"
   ]
  },
  {
   "cell_type": "code",
   "execution_count": 204,
   "metadata": {},
   "outputs": [],
   "source": [
    "def test_for_equal(mac_address):\n",
    "    \"\"\"\n",
    "    Проверяем файл с конфигурацией на наличие в нем каких-либо настроек, связанных с передаваемым параметром\n",
    "    :param device_name\n",
    "    :return: None \n",
    "    \"\"\"\n",
    "    device_name = ''\n",
    "    \n",
    "    \"\"\"\n",
    "    Находим составное имя (device_name) по MAC адресу\n",
    "    \"\"\"\n",
    "    hw_addr = mac_address.strip()\n",
    "    with open(\"result.conf\", \"r\") as f:\n",
    "        conf = f.read()\n",
    "        f.close()\n",
    "    config = parser.parse(conf)\n",
    "    dic_config = list(config[0]['host'])\n",
    "    for dev_name in dic_config:\n",
    "        if hw_addr in (s for s in config[0]['host'][dev_name]['hardware'].values()):\n",
    "            print(\"Find {} for device {}\".format(hw_addr, dev_name))\n",
    "            device_name = dev_name\n",
    "\n",
    "    \"\"\"\n",
    "    Если имя находим, то удалаяем все настройки, связанные с этим именем\n",
    "    \"\"\"\n",
    "    start,end = -2,-2 # start и end должны быть не пустыми и меньше -1\n",
    "    name = device_name.strip().casefold() # избавляемся от пробелов и игнорируем регистр\n",
    "    with open(\"result.conf\", 'r') as f: # открываем файл для чтения\n",
    "        config = f.readlines() # считывем построчно и получаем список\n",
    "    for line in config:\n",
    "        if line.startswith('host'): # если в начале строки попадается 'host'\n",
    "            if name in (s for s in line.strip().casefold().split()): # перебираем строку поэлементно на совпадение с 'name'\n",
    "                start = config.index(line) # запоминаем индекс\n",
    "                for i in range(start+1,len(config)): # продолжаем перебирать строки, начиная с индекса\n",
    "                    if '}' in (s for s in list(config[i])): # разбиваем строку на отдельные символы и проверяем на совпадение с '}'\n",
    "                        end = i\n",
    "                        break\n",
    "    \n",
    "    if start >= 0 and end >=start : # значения для среза обязательно должны быть, и второе (end) должно быть не меньше первого (start)\n",
    "        del config[start:end+1] # делаем срез списка (избавляемся от строк)\n",
    "        with open(\"result.conf\", 'w') as w:\n",
    "            w.writelines(config)\n",
    "            w.close()\n",
    "        print(\"'{}' is find and deleted there config...\".format(mac_address))\n",
    "    else: print(\"Configuration file does not contain '{}'...\".format(mac_address)) \n",
    "\n",
    "#test_for_equal('2A:2F:0A:9F:A8:B5')"
   ]
  },
  {
   "cell_type": "code",
   "execution_count": 205,
   "metadata": {},
   "outputs": [],
   "source": [
    "def dhcpd_config_file(j2_ip_address,j2_interface,event='None'):\n",
    "    \n",
    "    \"\"\" \n",
    "    Заполнение шаблона значениями\n",
    "    :param j2_device_name: устройство \n",
    "    :param j2_mac_address: mac адрес\n",
    "    :param j2_ip_address: ip адрес\n",
    "    :return: None\n",
    "    \"\"\"\n",
    "    \n",
    "    if confiugure_interface_mac_address(j2_interface.mac_address) != None:\n",
    "    \n",
    "        test_for_equal(j2_interface.mac_address)\n",
    "        \n",
    "        if event != 'delete':\n",
    "            templates_path = \"./templates/\"\n",
    "            environment = Environment(loader=FileSystemLoader(templates_path))\n",
    "            template = environment.get_template(\"dhcpd_static.template\")\n",
    "\n",
    "            content = template.render(\n",
    "            device_name = j2_interface.device.name+'.'+j2_interface.name.replace(\" \",\"_\"),\n",
    "            host_name = j2_interface.device.name,\n",
    "            mac_address = j2_interface.mac_address,\n",
    "            ip_address = j2_ip_address\n",
    "            )\n",
    "\n",
    "            # Сохраним получившийся конфиг\n",
    "            with open('result.conf', 'a') as fp: \n",
    "                fp.write(content + '\\n')\n",
    "                fp.close()\n",
    "            print(\"File {} is saved...\".format(\"result.conf\"))\n",
    "\n",
    "            \"\"\" # Прочитаем записанный файл\n",
    "            with open('result.conf', 'r') as fp: \n",
    "                print(fp.read()) \"\"\"\n",
    "    \n",
    "    else: print(\"MAC address isn’t compared...\")\n",
    "    \n",
    "#dhcpd_config_file('SRV-PEV-1','None', '1.1.1.1', 'create')"
   ]
  },
  {
   "cell_type": "code",
   "execution_count": 206,
   "metadata": {},
   "outputs": [],
   "source": [
    "def delete_ip_address(netbox_interface,netbox_ip_address,netbox_address_family):\n",
    "    \n",
    "    \"\"\"  \n",
    "    Удаление ip адреса\n",
    "    :param netbox_interface: ссылка на объект интерфейса pynetbox\n",
    "    :param netbox_ip_address: IPv4 адрес (IP/Prefix)\n",
    "    :param netbox_address_family: Версия IP (4|6)\n",
    "    :return: None\n",
    "    \"\"\"\n",
    "    \n",
    "    print(f\"Removing address {netbox_ip_address} \"\n",
    "          f\"from interface '{netbox_interface.name}' \"\n",
    "          f\"on device '{netbox_interface.device.name}'...\")\n",
    "\n",
    "    if netbox_address_family == 4:\n",
    "        ip_address = configure_interface_ipv4_address(netbox_ip_address)\n",
    "        interface = netbox_interface\n",
    "    else:\n",
    "        print(\"IPv6\")\n",
    "        #configure_interface_ipv6_address(netbox_ip_address)\n",
    "    \n",
    "    \"\"\"\n",
    "    Удаляем запись из конфигурационного файла DHCPd-службы\n",
    "    \"\"\"\n",
    "    dhcpd_config_file(ip_address,interface,event='delete')"
   ]
  },
  {
   "cell_type": "code",
   "execution_count": 207,
   "metadata": {},
   "outputs": [],
   "source": [
    "def create_ip_address(netbox_interface,netbox_ip_address,netbox_address_family):\n",
    "    \n",
    "    \"\"\"  \n",
    "    Создание ip адреса\n",
    "    :param netbox_interface: ссылка на объект интерфейса pynetbox\n",
    "    :param netbox_ip_address: IPv4 адрес (IP/Prefix)\n",
    "    :param netbox_address_family: Версия IP (4|6)\n",
    "    :return: None\n",
    "    \"\"\"\n",
    "\n",
    "    print(f\"Assigning address {netbox_ip_address} \"\n",
    "          f\"to interface '{netbox_interface.name}' \"\n",
    "          f\"on device '{netbox_interface.device.name}'...\")\n",
    "    \n",
    "    if netbox_address_family == 4:\n",
    "        ip_address = configure_interface_ipv4_address(netbox_ip_address)\n",
    "        interface = netbox_interface\n",
    "    else:\n",
    "        print(\"IPv6\")\n",
    "        #configure_interface_ipv6_address(netbox_ip_address)\n",
    "    \n",
    "    \"\"\"\n",
    "    Добавляем запись в конфигурационный файл DHCPd-службы\n",
    "    \"\"\"\n",
    "    dhcpd_config_file(ip_address,interface,event='create')"
   ]
  },
  {
   "cell_type": "code",
   "execution_count": 208,
   "metadata": {},
   "outputs": [],
   "source": [
    "def update_ip_address(netbox_interface,snapshot_json,netbox_ip_address,netbox_address_family):\n",
    "    \"\"\"  \n",
    "    Изменение ip адреса\n",
    "    :param netbox_interface: ссылка на объект интерфейса pynetbox\n",
    "    :param netbox_ip_address: IPv4 адрес (IP/Prefix)\n",
    "    :param netbox_address_family: Версия IP (4|6)\n",
    "    :return: None\n",
    "    \"\"\"\n",
    "\n",
    "    print(\"Updating IP address...\")\n",
    "    #print(snapshot_json)\n",
    "    if snapshot_json:\n",
    "        try:\n",
    "            old_interface_id = snapshot_json[\"prechange\"][\"assigned_object_id\"]\n",
    "\n",
    "            if old_interface_id != netbox_interface.id:\n",
    "                # Старое назначение принадлежит другому интерфейсу. \n",
    "                # Изменение конфигурации перед настройкой нового устройства.\n",
    "                old_interface_data = nb.dcim.interfaces.get(old_interface_id)\n",
    "                if not old_interface_data.mgmt_only:\n",
    "                    delete_ip_address(  netbox_interface,\n",
    "                                        netbox_ip_address,\n",
    "                                        netbox_address_family)\n",
    "        except AttributeError:\n",
    "            print(\"Address not previously assigned\")\n",
    "        except ValueError:\n",
    "            print(\"Address not previously assigned\")\n",
    "\n",
    "    if netbox_address_family == 4:\n",
    "        ip_address = configure_interface_ipv4_address(netbox_ip_address)\n",
    "        interface = netbox_interface\n",
    "        print(\"IP address V4...\")\n",
    "    else:\n",
    "        print(\"IPv6\")\n",
    "        #configure_interface_ipv6_address(netbox_ip_address)\n",
    "    \n",
    "    \"\"\"\n",
    "    Изменяем запись в конфигурационном файле DHCPd-службы\n",
    "    \"\"\"\n",
    "    dhcpd_config_file(ip_address,interface,event='update')"
   ]
  },
  {
   "cell_type": "markdown",
   "metadata": {},
   "source": [
    "Создаем функцию для манипулирования IP адресами"
   ]
  },
  {
   "cell_type": "code",
   "execution_count": 209,
   "metadata": {},
   "outputs": [],
   "source": [
    "def manage_interface_ip_address():\n",
    "        \n",
    "    #get_device = request.json[\"data\"][\"assigned_object\"][\"device\"][\"name\"]\n",
    "    get_device_interface = nb.dcim.interfaces.get(request.json[\"data\"][\"assigned_object_id\"])    \n",
    "    get_device_ips = request.json[\"data\"][\"address\"]\n",
    "    get_address_family = request.json[\"data\"][\"family\"][\"value\"]\n",
    "\n",
    "    if get_device_interface.mgmt_only: # проверяем, является ли интерфейс management интерфейсов\n",
    "        print(\"\\tManagement interface, no changes will be performed...\")\n",
    "    else:\n",
    "            if request.json[\"event\"] == \"deleted\": # IP адрес будет удален\n",
    "\n",
    "                delete_ip_address(  netbox_interface=get_device_interface,\n",
    "                                    netbox_ip_address=get_device_ips,\n",
    "                                    netbox_address_family=get_address_family\n",
    "                                    )\n",
    "\n",
    "            elif request.json[\"event\"] == \"created\": # IP адрес будет добавлен.\n",
    "\n",
    "                create_ip_address(netbox_interface=get_device_interface,\n",
    "                                    netbox_ip_address=get_device_ips,\n",
    "                                    netbox_address_family=get_address_family)\n",
    "\n",
    "            elif request.json[\"event\"] == \"updated\":\n",
    "                # Details of the IP have changed.  Determine if it was previously\n",
    "                # assigned to a different device / interface. If so, unconfigure\n",
    "                # that interface first and configure on the new one.\n",
    "                update_ip_address(  netbox_interface=get_device_interface,\n",
    "                                    snapshot_json=request.json.get(\"snapshots\"),\n",
    "                                    netbox_ip_address=get_device_ips,\n",
    "                                    netbox_address_family=get_address_family\n",
    "                                    )\n",
    "    \n",
    "    return Response(status=204)"
   ]
  },
  {
   "cell_type": "markdown",
   "metadata": {},
   "source": [
    "Создаем экземпляр Flask"
   ]
  },
  {
   "cell_type": "code",
   "execution_count": 210,
   "metadata": {},
   "outputs": [
    {
     "name": "stdout",
     "output_type": "stream",
     "text": [
      " * Serving Flask app '__main__'\n",
      " * Debug mode: off\n"
     ]
    },
    {
     "name": "stderr",
     "output_type": "stream",
     "text": [
      "WARNING: This is a development server. Do not use it in a production deployment. Use a production WSGI server instead.\n",
      " * Running on all addresses (0.0.0.0)\n",
      " * Running on http://127.0.0.1:8080\n",
      " * Running on http://10.68.5.5:8080\n",
      "Press CTRL+C to quit\n",
      "10.30.1.101 - - [12/Mar/2023 20:09:30] \"POST /api/fixed_ip HTTP/1.1\" 204 -\n"
     ]
    },
    {
     "name": "stdout",
     "output_type": "stream",
     "text": [
      "Updating IP address...\n",
      "IP address V4...\n",
      "MAC address is A1:B3:C4:C5:C5:C2...\n",
      "Find A1:B3:C4:C5:C5:C2 for device SRV-PEV-1.Gig-E_4 \n",
      "'A1:B3:C4:C5:C5:C2' is find and deleted there config...\n",
      "File result.conf is saved...\n"
     ]
    },
    {
     "name": "stderr",
     "output_type": "stream",
     "text": [
      "10.30.1.101 - - [12/Mar/2023 20:16:38] \"POST /api/fixed_ip HTTP/1.1\" 204 -\n"
     ]
    },
    {
     "name": "stdout",
     "output_type": "stream",
     "text": [
      "Updating IP address...\n",
      "IP address V4...\n",
      "MAC address is None...\n",
      "MAC address isn’t compared...\n"
     ]
    },
    {
     "name": "stderr",
     "output_type": "stream",
     "text": [
      "10.30.1.101 - - [12/Mar/2023 20:17:26] \"POST /api/fixed_ip HTTP/1.1\" 204 -\n"
     ]
    },
    {
     "name": "stdout",
     "output_type": "stream",
     "text": [
      "Updating IP address...\n",
      "IP address V4...\n",
      "MAC address is 2A:2F:0A:9F:A8:B5...\n",
      "Configuration file does not contain '2A:2F:0A:9F:A8:B5'...\n",
      "File result.conf is saved...\n"
     ]
    },
    {
     "name": "stderr",
     "output_type": "stream",
     "text": [
      "10.30.1.101 - - [12/Mar/2023 20:20:15] \"POST /api/fixed_ip HTTP/1.1\" 204 -\n"
     ]
    },
    {
     "name": "stdout",
     "output_type": "stream",
     "text": [
      "Assigning address 10.30.1.102/24 to interface 'Gig-E 3' on device 'SRV-PEV-5'...\n",
      "MAC address is None...\n",
      "MAC address isn’t compared...\n"
     ]
    },
    {
     "name": "stderr",
     "output_type": "stream",
     "text": [
      "10.30.1.101 - - [12/Mar/2023 20:21:13] \"POST /api/fixed_ip HTTP/1.1\" 204 -\n"
     ]
    },
    {
     "name": "stdout",
     "output_type": "stream",
     "text": [
      "Updating IP address...\n",
      "IP address V4...\n",
      "MAC address is A1:B3:C4:C5:C3:C2...\n",
      "Configuration file does not contain 'A1:B3:C4:C5:C3:C2'...\n",
      "File result.conf is saved...\n",
      "Updating IP address...\n"
     ]
    },
    {
     "name": "stderr",
     "output_type": "stream",
     "text": [
      "10.30.1.101 - - [12/Mar/2023 20:22:47] \"POST /api/fixed_ip HTTP/1.1\" 204 -\n"
     ]
    },
    {
     "name": "stdout",
     "output_type": "stream",
     "text": [
      "Removing address 10.30.1.102/24 from interface 'Gig-E 4' on device 'SRV-PEV-5'...\n",
      "MAC address is 01:23:43:44:55:43...\n",
      "Configuration file does not contain '01:23:43:44:55:43'...\n",
      "IP address V4...\n",
      "MAC address is 01:23:43:44:55:43...\n",
      "Configuration file does not contain '01:23:43:44:55:43'...\n",
      "File result.conf is saved...\n"
     ]
    }
   ],
   "source": [
    "# Create a Flask instance\n",
    "app = Flask(__name__)\n",
    "app.add_url_rule(\"/api/fixed_ip\",\n",
    "                 methods=[\"POST\"],\n",
    "                 view_func=manage_interface_ip_address)\n",
    "\n",
    "if __name__ == \"__main__\":\n",
    "    # If this script is called from the command line, instruct Flask to enable\n",
    "    # debugging for the app and listen on every IP address on the specified\n",
    "    # port.\n",
    "    #app.debug = True\n",
    "    app.run(host=\"0.0.0.0\", port=8080)"
   ]
  }
 ],
 "metadata": {
  "kernelspec": {
   "display_name": "Python 3.10.6 64-bit",
   "language": "python",
   "name": "python3"
  },
  "language_info": {
   "codemirror_mode": {
    "name": "ipython",
    "version": 3
   },
   "file_extension": ".py",
   "mimetype": "text/x-python",
   "name": "python",
   "nbconvert_exporter": "python",
   "pygments_lexer": "ipython3",
   "version": "3.10.6"
  },
  "orig_nbformat": 4,
  "vscode": {
   "interpreter": {
    "hash": "aee8b7b246df8f9039afb4144a1f6fd8d2ca17a180786b69acc140d282b71a49"
   }
  }
 },
 "nbformat": 4,
 "nbformat_minor": 2
}
