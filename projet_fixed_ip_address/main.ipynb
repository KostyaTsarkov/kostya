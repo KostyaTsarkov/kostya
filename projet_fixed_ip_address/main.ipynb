{
 "cells": [
  {
   "cell_type": "markdown",
   "metadata": {},
   "source": [
    "Подключаем библиотеки"
   ]
  },
  {
   "cell_type": "code",
   "execution_count": null,
   "metadata": {},
   "outputs": [],
   "source": [
    "from flask import Flask, request, Response\n",
    "from nornir import InitNornir\n",
    "import pynetbox\n",
    "import ipaddress\n",
    "from jinja2 import Environment, FileSystemLoader\n",
    "import json\n",
    "import macaddress\n",
    "from pydhcpdparser import parser"
   ]
  },
  {
   "cell_type": "code",
   "execution_count": null,
   "metadata": {},
   "outputs": [],
   "source": [
    "l = ['a','b','c','d']\n",
    "val = ['10','20','30','20']\n",
    "val2 = ['11','22','33','22']\n",
    "d = dict(zip(l,val))\n",
    "d2 = dict(zip(l,val2))\n",
    "print(l)\n",
    "print(d)\n",
    "print(d2)\n",
    "l2 = [d,d2]\n",
    "new_l = [dic for dic in l2 if dic.get('b').startswith('2')]\n",
    "print(new_l)\n",
    "\n",
    "def upper(string):\n",
    "    return string.upper()\n",
    "\n",
    "print(upper('qwerty'))\n",
    "\n",
    "print(list(map(lambda string: string.upper(),l)))\n",
    "\n",
    "\n",
    "def a(x):\n",
    "\n",
    "    \n",
    "    def b(x):\n",
    "        return print(x)\n",
    "    \n",
    "    b_func = b\n",
    "    \n",
    "    return b_func\n",
    "\n",
    "@a('5')\n",
    "def c(x):\n",
    "    print(x)"
   ]
  },
  {
   "cell_type": "code",
   "execution_count": 3,
   "metadata": {},
   "outputs": [
    {
     "name": "stdout",
     "output_type": "stream",
     "text": [
      "None\n"
     ]
    }
   ],
   "source": [
    "val = None\n",
    "result = (val if val else None)\n",
    "print(result)"
   ]
  },
  {
   "cell_type": "markdown",
   "metadata": {},
   "source": [
    "Инициализируем nornir"
   ]
  },
  {
   "cell_type": "code",
   "execution_count": null,
   "metadata": {},
   "outputs": [],
   "source": [
    "# Init Nornir\n",
    "nr = InitNornir(\n",
    "    inventory={\n",
    "        \"plugin\": \"NetBoxInventory2\",\n",
    "        \"options\": {\n",
    "            \"nb_url\": \"http://10.30.1.226:8000\",\n",
    "            \"nb_token\": \"dc5b766afda60e647a9fcc384c736a9689da8618\",\n",
    "            \"group_file\": \"./inventory/groups.yml\",\n",
    "            \"defaults_file\": \"./inventory/defaults.yml\",\n",
    "        },\n",
    "    },\n",
    ")"
   ]
  },
  {
   "cell_type": "markdown",
   "metadata": {},
   "source": [
    "Инициализируем pynetbox"
   ]
  },
  {
   "cell_type": "code",
   "execution_count": null,
   "metadata": {},
   "outputs": [],
   "source": [
    "# Init pynetbox\n",
    "nb_url = nr.config.inventory.options['nb_url']\n",
    "nb_token = nr.config.inventory.options['nb_token']\n",
    "nb = pynetbox.api(\n",
    "    nb_url,\n",
    "    token=nb_token\n",
    ")"
   ]
  },
  {
   "attachments": {},
   "cell_type": "markdown",
   "metadata": {},
   "source": [
    "Создаем функцию проверки None"
   ]
  },
  {
   "cell_type": "code",
   "execution_count": null,
   "metadata": {},
   "outputs": [],
   "source": [
    "def convert_none_to_str(value):\n",
    "    return '' if value is None else str(value)"
   ]
  },
  {
   "attachments": {},
   "cell_type": "markdown",
   "metadata": {},
   "source": [
    "Создаем функцию извлечения IPv4"
   ]
  },
  {
   "cell_type": "code",
   "execution_count": null,
   "metadata": {},
   "outputs": [],
   "source": [
    "def configure_interface_ipv4_address(netbox_ip_address):\n",
    "    \"\"\"\n",
    "    Извлечение IPv4 адреса, маски, сети, префикса, шлюза.\n",
    "    :param netbox_ip_address: IPv4 адрес (IP/Prefix)\n",
    "    :return: ip4_address\n",
    "    \"\"\"\n",
    "\n",
    "    ip4_address = format(ipaddress.IPv4Interface(netbox_ip_address).ip)\n",
    "    ip4_netmask = format(ipaddress.IPv4Interface(netbox_ip_address).netmask)\n",
    "    ip4_network = format(ipaddress.IPv4Interface(netbox_ip_address).network)\n",
    "    ip4_prefix = format(ipaddress.IPv4Network(ip4_network).prefixlen)\n",
    "    ip4_broadcast = format(ipaddress.IPv4Network(ip4_network).broadcast_address)\n",
    "    ip4_gateway = format(list(ipaddress.IPv4Network(ip4_network).hosts())[-1])\n",
    "\n",
    "    return(ip4_address)"
   ]
  },
  {
   "attachments": {},
   "cell_type": "markdown",
   "metadata": {},
   "source": [
    "Создаем функцию проверки MAC адреса"
   ]
  },
  {
   "cell_type": "code",
   "execution_count": null,
   "metadata": {},
   "outputs": [],
   "source": [
    "def confiugure_interface_mac_address(netbox_mac_address):\n",
    "    \"\"\"\n",
    "    Проверяем MAC адрес\n",
    "    :param netbox_mac_address: MAC address identifier types OUI\n",
    "    :return: netbox_mac_address\n",
    "    \"\"\"\n",
    "\n",
    "    netbox_mac_address = convert_none_to_str(netbox_mac_address) # если значение None, то преобразуем его в \"\"\n",
    "\n",
    "    try:\n",
    "        macaddress.MAC(netbox_mac_address) # является ли переменная MAC адресом\n",
    "    except ValueError as error:\n",
    "        #print(error)\n",
    "        netbox_mac_address = None\n",
    "    print(\"MAC address is {}...\".format(netbox_mac_address))\n",
    "    \n",
    "    return(netbox_mac_address)\n"
   ]
  },
  {
   "attachments": {},
   "cell_type": "markdown",
   "metadata": {},
   "source": [
    "Создаем функцию очистки конфигурационного файла"
   ]
  },
  {
   "cell_type": "code",
   "execution_count": null,
   "metadata": {},
   "outputs": [],
   "source": [
    "def delete_config_file(device_name):\n",
    "    \"\"\"\n",
    "    Если имя находим, то удалаяем все настройки, связанные с этим именем\n",
    "    :param device_name\n",
    "    :return: None\n",
    "    \"\"\"\n",
    "    \n",
    "    start,end = -2,-2 # start и end должны быть не пустыми и меньше -1\n",
    "    name = device_name.strip().casefold() # избавляемся от пробелов и игнорируем регистр\n",
    "    \n",
    "    with open(\"result.conf\", 'r') as f: # открываем файл для чтения\n",
    "        config = f.readlines() # считывем построчно и получаем список\n",
    "    \n",
    "    for line in config:\n",
    "    \n",
    "        if line.startswith('host'): # если в начале строки попадается 'host'\n",
    "    \n",
    "            if name in (s for s in line.strip().casefold().split()): # перебираем строку поэлементно на совпадение с 'name'\n",
    "                start = config.index(line) # запоминаем индекс\n",
    "    \n",
    "                for i in range(start+1,len(config)): # продолжаем перебирать строки, начиная с индекса\n",
    "    \n",
    "                    if '}' in (s for s in list(config[i])): # разбиваем строку на отдельные символы и проверяем на совпадение с '}'\n",
    "                        end = i\n",
    "    \n",
    "                        if start >= 0 and end >=start : # значения для среза обязательно должны быть, и второе (end) должно быть не меньше первого (start)\n",
    "                            del config[start:end+1] # делаем срез списка (избавляемся от строк)\n",
    "                            with open(\"result.conf\", 'w') as w:\n",
    "                                w.writelines(config)\n",
    "                                w.close()\n",
    "                            print(\"'{}' is find and deleted there config...\".format(device_name))\n",
    "                        else: print(\"Configuration file does not contain '{}'...\".format(device_name)) \n",
    "                        break\n",
    "    return None"
   ]
  },
  {
   "attachments": {},
   "cell_type": "markdown",
   "metadata": {},
   "source": [
    "Создаем функцию проверки конфигурационного файла"
   ]
  },
  {
   "cell_type": "code",
   "execution_count": null,
   "metadata": {},
   "outputs": [],
   "source": [
    "def test_for_equal(mac_address, device_name,ip_address):\n",
    "    \"\"\"\n",
    "    Проверяем файл конфигурации на наличие в нем каких-либо настроек, связанных с передаваемыми параметрами\n",
    "    :param device_name\n",
    "    :param mac_address\n",
    "    :param ip_address\n",
    "    :return: None \n",
    "    \"\"\"\n",
    "    \n",
    "    \"\"\"\n",
    "    Находим составное имя по MAC адресу или по IP адресу\n",
    "    \"\"\"\n",
    "    if confiugure_interface_mac_address(mac_address) != None: \n",
    "        hw_addr = mac_address.strip() # избавляемся от пробелов\n",
    "        ip_addr = ip_address.strip() # избавляемся от пробелов\n",
    "        with open(\"result.conf\", \"r\") as f: # открываем файл на чтение\n",
    "            conf = f.read() # считываем все одной строкой\n",
    "            f.close() # закрываем файл\n",
    "        config = parser.parse(conf) # парсим и получаем словарь\n",
    "        dic_config = list(config[0]['host']) # из словаря делаем список с вложенным словарем\n",
    "        for dev_name in dic_config: # перебираем словарь\n",
    "            \n",
    "            if hw_addr in (s for s in config[0]['host'][dev_name]['hardware'].values()): # если наш MAC присутствует в словаре\n",
    "                print(\"Find {} for device {}\".format(hw_addr, dev_name))\n",
    "                delete_config_file(dev_name) # удаляем из словаря все по ключу\n",
    "           \n",
    "            elif ip_addr in (s for s in config[0]['host'][dev_name].values()): # если наш IP присутствует в словаре\n",
    "                print(\"Find {} for device {}\".format(ip_addr, dev_name))\n",
    "                delete_config_file(dev_name) # удаляем из словаря все по ключу\n",
    "    else: \n",
    "        delete_config_file(device_name)\n"
   ]
  },
  {
   "attachments": {},
   "cell_type": "markdown",
   "metadata": {},
   "source": [
    "Создаем функцию изменения конфига"
   ]
  },
  {
   "cell_type": "code",
   "execution_count": null,
   "metadata": {},
   "outputs": [],
   "source": [
    "def dhcpd_config_file(j2_ip_address,j2_interface,event='None'):\n",
    "    \n",
    "    \"\"\" \n",
    "    Заполнение шаблона значениями\n",
    "    :param j2_interface: интерфейс \n",
    "    :param event: событие\n",
    "    :param j2_ip_address: ip адрес\n",
    "    :return: None\n",
    "    \"\"\"\n",
    "    j2_host = j2_interface.device.name+'.'+j2_interface.name.replace(\" \",\"_\")\n",
    "    \n",
    "    test_for_equal(j2_interface.mac_address, j2_host,j2_ip_address)\n",
    "    \n",
    "    if event != 'delete':\n",
    "        \n",
    "        if confiugure_interface_mac_address(j2_interface.mac_address) != None:\n",
    "\n",
    "            templates_path = \"./templates/\"\n",
    "            environment = Environment(loader=FileSystemLoader(templates_path))\n",
    "            template = environment.get_template(\"dhcpd_static.template\")\n",
    "\n",
    "            content = template.render( # заполняем шаблон\n",
    "            device_name = j2_host,\n",
    "            host_name = j2_interface.device.name,\n",
    "            mac_address = j2_interface.mac_address,\n",
    "            ip_address = j2_ip_address\n",
    "            )\n",
    "            print(\"Filling in the template...\\n{}\".format(content))\n",
    "            with open('result.conf', 'a') as fp: # Сохраняем получившийся конфиг\n",
    "                fp.write(content + '\\n')\n",
    "                fp.close()\n",
    "            print(\"File {} is saved!\".format(\"result.conf\"))\n",
    "    \n",
    "        else: print(\"MAC address isn’t compared...\")"
   ]
  },
  {
   "attachments": {},
   "cell_type": "markdown",
   "metadata": {},
   "source": [
    "Удаляем IP-адрес"
   ]
  },
  {
   "cell_type": "code",
   "execution_count": null,
   "metadata": {},
   "outputs": [],
   "source": [
    "def delete_ip_address(netbox_interface,netbox_ip_address,netbox_address_family):\n",
    "    \n",
    "    \"\"\"  \n",
    "    Удаление ip адреса\n",
    "    :param netbox_interface: ссылка на объект интерфейса pynetbox\n",
    "    :param netbox_ip_address: IPv4 адрес (IP/Prefix)\n",
    "    :param netbox_address_family: Версия IP (4|6)\n",
    "    :return: None\n",
    "    \"\"\"\n",
    "    \n",
    "    print(f\"Removing address {netbox_ip_address} \"\n",
    "          f\"from interface '{netbox_interface.name}' \"\n",
    "          f\"on device '{netbox_interface.device.name}'...\")\n",
    "\n",
    "    if netbox_address_family == 4:\n",
    "        ip_address = configure_interface_ipv4_address(netbox_ip_address)\n",
    "        interface = netbox_interface\n",
    "    else:\n",
    "        print(\"IPv6\")\n",
    "    \n",
    "    \"\"\"\n",
    "    Удаляем запись из конфигурационного файла DHCPd-службы\n",
    "    \"\"\"\n",
    "    dhcpd_config_file(ip_address,interface,event='delete')"
   ]
  },
  {
   "attachments": {},
   "cell_type": "markdown",
   "metadata": {},
   "source": [
    "Новый IP-адрес"
   ]
  },
  {
   "cell_type": "code",
   "execution_count": null,
   "metadata": {},
   "outputs": [],
   "source": [
    "def create_ip_address(netbox_interface,netbox_ip_address,netbox_address_family):\n",
    "    \n",
    "    \"\"\"  \n",
    "    Создание ip адреса\n",
    "    :param netbox_interface: ссылка на объект интерфейса pynetbox\n",
    "    :param netbox_ip_address: IPv4 адрес (IP/Prefix)\n",
    "    :param netbox_address_family: Версия IP (4|6)\n",
    "    :return: None\n",
    "    \"\"\"\n",
    "\n",
    "    print(f\"Assigning address {netbox_ip_address} \"\n",
    "          f\"to interface '{netbox_interface.name}' \"\n",
    "          f\"on device '{netbox_interface.device.name}'...\")\n",
    "    \n",
    "    if netbox_address_family == 4:\n",
    "        ip_address = configure_interface_ipv4_address(netbox_ip_address)\n",
    "        interface = netbox_interface\n",
    "    else:\n",
    "        print(\"IPv6\")\n",
    "    \n",
    "    \"\"\"\n",
    "    Добавляем запись в конфигурационный файл DHCPd-службы\n",
    "    \"\"\"\n",
    "    dhcpd_config_file(ip_address,interface,event='create')"
   ]
  },
  {
   "attachments": {},
   "cell_type": "markdown",
   "metadata": {},
   "source": [
    "Изменяем IP-адрес"
   ]
  },
  {
   "cell_type": "code",
   "execution_count": null,
   "metadata": {},
   "outputs": [],
   "source": [
    "def update_ip_address(netbox_interface,snapshot_json,netbox_ip_address,netbox_address_family):\n",
    "    \"\"\"  \n",
    "    Изменение ip адреса\n",
    "    :param netbox_interface: ссылка на объект интерфейса pynetbox\n",
    "    :param netbox_ip_address: IPv4 адрес (IP/Prefix)\n",
    "    :param netbox_address_family: Версия IP (4|6)\n",
    "    :return: None\n",
    "    \"\"\"\n",
    "\n",
    "    print(\"Updating IP address...\")\n",
    "    if snapshot_json:\n",
    "        try:\n",
    "            old_interface_id = snapshot_json[\"prechange\"][\"assigned_object_id\"]\n",
    "\n",
    "            if old_interface_id != netbox_interface.id: # если старое назначение принадлежит другому интерфейсу\n",
    "                old_interface_data = nb.dcim.interfaces.get(old_interface_id) # измененияем конфигурацию перед настройкой нового устройства\n",
    "                if not old_interface_data.mgmt_only: # если интерфейс не используется для управления! \n",
    "                    delete_ip_address(  netbox_interface,\n",
    "                                        netbox_ip_address,\n",
    "                                        netbox_address_family)\n",
    "        except AttributeError:\n",
    "            print(\"Address not previously assigned\")\n",
    "        except ValueError:\n",
    "            print(\"Address not previously assigned\")\n",
    "\n",
    "    if netbox_address_family == 4:\n",
    "        ip_address = configure_interface_ipv4_address(netbox_ip_address)\n",
    "        interface = netbox_interface\n",
    "        print(\"IP address V4...\")\n",
    "    else:\n",
    "        print(\"IPv6\")\n",
    "    \n",
    "    \"\"\"\n",
    "    Изменяем запись в конфигурационном файле DHCPd-службы\n",
    "    \"\"\"\n",
    "    dhcpd_config_file(ip_address,interface,event='update')"
   ]
  },
  {
   "cell_type": "markdown",
   "metadata": {},
   "source": [
    "Создаем функцию для манипулирования IP адресами"
   ]
  },
  {
   "cell_type": "code",
   "execution_count": null,
   "metadata": {},
   "outputs": [],
   "source": [
    "def manage_interface_ip_address():\n",
    "        \n",
    "    #get_device = request.json[\"data\"][\"assigned_object\"][\"device\"][\"name\"]\n",
    "    get_device_interface = nb.dcim.interfaces.get(request.json[\"data\"][\"assigned_object_id\"])    \n",
    "    get_device_ips = request.json[\"data\"][\"address\"]\n",
    "    get_address_family = request.json[\"data\"][\"family\"][\"value\"]\n",
    "\n",
    "    if get_device_interface.mgmt_only: # проверяем, является ли интерфейс management интерфейсов\n",
    "        print(\"\\tManagement interface, no changes will be performed...\")\n",
    "    else:\n",
    "            if request.json[\"event\"] == \"deleted\": # IP адрес будет удален\n",
    "\n",
    "                delete_ip_address(  netbox_interface=get_device_interface,\n",
    "                                    netbox_ip_address=get_device_ips,\n",
    "                                    netbox_address_family=get_address_family\n",
    "                                    )\n",
    "\n",
    "            elif request.json[\"event\"] == \"created\": # IP адрес будет добавлен\n",
    "\n",
    "                create_ip_address(netbox_interface=get_device_interface,\n",
    "                                    netbox_ip_address=get_device_ips,\n",
    "                                    netbox_address_family=get_address_family)\n",
    "\n",
    "            elif request.json[\"event\"] == \"updated\": # IP адрес будет добавлен\n",
    "\n",
    "                update_ip_address(  netbox_interface=get_device_interface,\n",
    "                                    snapshot_json=request.json.get(\"snapshots\"),\n",
    "                                    netbox_ip_address=get_device_ips,\n",
    "                                    netbox_address_family=get_address_family\n",
    "                                    )\n",
    "    \n",
    "    return Response(status=204)"
   ]
  },
  {
   "cell_type": "markdown",
   "metadata": {},
   "source": [
    "Создаем экземпляр Flask"
   ]
  },
  {
   "cell_type": "code",
   "execution_count": null,
   "metadata": {},
   "outputs": [],
   "source": [
    "# Create a Flask instance\n",
    "app = Flask(__name__)\n",
    "app.add_url_rule(\"/api/fixed_ip\",\n",
    "                 methods=[\"POST\"],\n",
    "                 view_func=manage_interface_ip_address)\n",
    "\n",
    "if __name__ == \"__main__\":\n",
    "    # If this script is called from the command line, instruct Flask to enable\n",
    "    # debugging for the app and listen on every IP address on the specified\n",
    "    # port.\n",
    "    #app.debug = True\n",
    "    app.run(host=\"0.0.0.0\", port=8080)"
   ]
  }
 ],
 "metadata": {
  "kernelspec": {
   "display_name": "Python 3.10.6 64-bit",
   "language": "python",
   "name": "python3"
  },
  "language_info": {
   "codemirror_mode": {
    "name": "ipython",
    "version": 3
   },
   "file_extension": ".py",
   "mimetype": "text/x-python",
   "name": "python",
   "nbconvert_exporter": "python",
   "pygments_lexer": "ipython3",
   "version": "3.10.6"
  },
  "orig_nbformat": 4,
  "vscode": {
   "interpreter": {
    "hash": "aee8b7b246df8f9039afb4144a1f6fd8d2ca17a180786b69acc140d282b71a49"
   }
  }
 },
 "nbformat": 4,
 "nbformat_minor": 2
}
