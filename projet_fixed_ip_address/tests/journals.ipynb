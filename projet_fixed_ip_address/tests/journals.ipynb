{
 "cells": [
  {
   "cell_type": "code",
   "execution_count": null,
   "metadata": {},
   "outputs": [],
   "source": [
    "from nornir import InitNornir\n",
    "import pynetbox\n",
    "from jinja2 import Environment, FileSystemLoader\n",
    "import json"
   ]
  },
  {
   "cell_type": "code",
   "execution_count": null,
   "metadata": {},
   "outputs": [],
   "source": [
    "# Init Nornir\n",
    "nr = InitNornir(\n",
    "    inventory={\n",
    "        \"plugin\": \"NetBoxInventory2\",\n",
    "        \"options\": {\n",
    "            \"nb_url\": \"http://10.30.1.226:8000\",\n",
    "            \"nb_token\": \"dc5b766afda60e647a9fcc384c736a9689da8618\",\n",
    "            \"group_file\": \"./inventory/groups.yml\",\n",
    "            \"defaults_file\": \"./inventory/defaults.yml\",\n",
    "        },\n",
    "    },\n",
    ")"
   ]
  },
  {
   "cell_type": "code",
   "execution_count": null,
   "metadata": {},
   "outputs": [],
   "source": [
    "# Init pynetbox\n",
    "nb_url = nr.config.inventory.options['nb_url']\n",
    "nb_token = nr.config.inventory.options['nb_token']\n",
    "nb = pynetbox.api(\n",
    "    nb_url,\n",
    "    token=nb_token\n",
    ")"
   ]
  },
  {
   "cell_type": "code",
   "execution_count": null,
   "metadata": {},
   "outputs": [],
   "source": [
    "templates_path = \"./templates/\""
   ]
  },
  {
   "cell_type": "code",
   "execution_count": null,
   "metadata": {},
   "outputs": [],
   "source": [
    "level = 'error'\n",
    "kind = ['emergency','alert','critical','error','warning','notification','informational','debugging',]\n",
    "set_kind = tuple(kind)\n",
    "if level in kind:\n",
    "    log_level = set_kind.index(level)\n",
    "    if log_level in range(2):\n",
    "        netbox_level = 'danger'\n",
    "    elif log_level in range(2,5):\n",
    "        netbox_level = 'warning'\n",
    "    elif log_level in range(5,7):\n",
    "        netbox_level = 'info'\n",
    "    else: netbox_level = 'success'\n",
    "\n",
    "print(netbox_level)"
   ]
  },
  {
   "cell_type": "code",
   "execution_count": null,
   "metadata": {},
   "outputs": [],
   "source": [
    "def template_fill(*args,**kwargs):\n",
    "    template_file = \"netbox_journals.template\"\n",
    "    environment = Environment(loader=FileSystemLoader(templates_path)) # загружаем шаблон для заполнения\n",
    "    template = environment.get_template(template_file)\n",
    "    content = None\n",
    "    \n",
    "    kind = ['emergency','alert','critical','error','warning','notification','informational','debugging',]\n",
    "    set_kind = tuple(kind)\n",
    "    if level in kind:\n",
    "        log_level = set_kind.index(level)\n",
    "        if log_level in range(2):\n",
    "            netbox_level = 'danger'\n",
    "            wow = '!!!'\n",
    "        elif log_level in range(2,5):\n",
    "            netbox_level = 'warning'\n",
    "            wow = '!'\n",
    "        elif log_level in range(5,7):\n",
    "            netbox_level = 'info'\n",
    "            wow = '.'\n",
    "        else: \n",
    "            netbox_level = 'success'\n",
    "            wow = ''\n",
    "    print(netbox_level)\n",
    "    \n",
    "    try:\n",
    "        content = template.render( # заполняем шаблон\n",
    "                                assigned_object_type = 'dcim.device',\n",
    "                                assigned_object_id = '12',\n",
    "                                kind = netbox_level,\n",
    "                                comments = comment + '{}'.format(wow)\n",
    "                                )\n",
    "    except: print(\"not all arguments have been transmitted...\")\n",
    "    else:\n",
    "        print(\"Filling in the template...\\n{}\".format(content)) \n",
    "    return content \n",
    "\n",
    "#level = 'emergency'\n",
    "#comment = 'All for testing'\n",
    "comment,level = 'All for testing','emergency'\n",
    "content = [json.loads(template_fill(level,comment))]\n",
    "#nb.extras.journal_entries.create(content)\n",
    "\n",
    "journals = list(nb.extras.journal_entries.all())\n",
    "for journal in journals:\n",
    "    print(journal.comments)"
   ]
  }
 ],
 "metadata": {
  "kernelspec": {
   "display_name": "Python 3",
   "language": "python",
   "name": "python3"
  },
  "language_info": {
   "codemirror_mode": {
    "name": "ipython",
    "version": 3
   },
   "file_extension": ".py",
   "mimetype": "text/x-python",
   "name": "python",
   "nbconvert_exporter": "python",
   "pygments_lexer": "ipython3",
   "version": "3.7.8 (tags/v3.7.8:4b47a5b6ba, Jun 28 2020, 08:53:46) [MSC v.1916 64 bit (AMD64)]"
  },
  "orig_nbformat": 4,
  "vscode": {
   "interpreter": {
    "hash": "0a54084e6b208ee8d1ce3989ffc20924477a5f55f5a43e22e699a6741623861e"
   }
  }
 },
 "nbformat": 4,
 "nbformat_minor": 2
}
