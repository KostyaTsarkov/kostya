{
 "cells": [
  {
   "cell_type": "code",
   "execution_count": null,
   "metadata": {},
   "outputs": [],
   "source": [
    "import re\n",
    "\n",
    "def parse_interface_name(interface_name: str) -> 'tuple[str, str]':\n",
    "    \"\"\"\n",
    "    Разделяем строку на тип интерфейса и идентификатор интерфейса. \n",
    "    :param interface_name: имя интерфейса\n",
    "    :return: interface_type, interface_id\n",
    "    \"\"\"\n",
    "    INTERFACE_PATTERN = r\"^(\\D+)(\\d+.*)$\"\n",
    "    interface_regex = re.compile(INTERFACE_PATTERN)\n",
    "\n",
    "    interface_type, interface_id = re.fullmatch(INTERFACE_PATTERN, str(interface_name)).groups()  # type: ignore\n",
    "\n",
    "    return interface_type, interface_id\n",
    "\n",
    "# Tests that parse_interface_name correctly separates the interface type and id for input \"Special!@#$\". \n",
    "def test_edge_case_special_characters():\n",
    "    result = parse_interface_name(\"Special!@#$\")\n",
    "    assert result == (\"Special\", \"!@#$\")\n",
    "\n",
    "test_edge_case_special_characters()"
   ]
  },
  {
   "cell_type": "code",
   "execution_count": null,
   "metadata": {},
   "outputs": [],
   "source": [
    "# Tests that parse_interface_name correctly separates the interface type and id for input \"Ethernet0\". \n",
    "def test_happy_path_ethernet(self):\n",
    "    result = parse_interface_name(\"Ethernet0\")\n",
    "    assert result == (\"Ethernet\", \"0\")"
   ]
  },
  {
   "cell_type": "code",
   "execution_count": null,
   "metadata": {},
   "outputs": [],
   "source": [
    "# Tests that parse_interface_name correctly separates the interface type and id for input \"Special!@#$\". \n",
    "def test_edge_case_special_characters(self):\n",
    "    result = parse_interface_name(\"Special!@#$\")\n",
    "    assert result == (\"Special\", \"!@#\")"
   ]
  },
  {
   "cell_type": "code",
   "execution_count": 2,
   "metadata": {},
   "outputs": [],
   "source": [
    "import ipaddress\n",
    "\n",
    "def extract_ipv4_info(netbox_ip_address: str) -> dict:\n",
    "    \"\"\"\n",
    "    Extracts IPv4 address, netmask, network, prefix, broadcast and gateway from the provided IP address and returns a dictionary.\n",
    "\n",
    "    Args:\n",
    "        netbox_ip_address (str): IP address (IP/Prefix)\n",
    "\n",
    "    Returns:\n",
    "        dict: Dictionary containing the extracted IPv4 information.\n",
    "            Keys:\n",
    "                - ip4_address: The IPv4 address.\n",
    "                - ip4_netmask: The IPv4 netmask.\n",
    "                - ip4_network: The IPv4 network address.\n",
    "                - ip4_prefix: The IPv4 prefix length.\n",
    "                - ip4_broadcast: The IPv4 broadcast address.\n",
    "                - ip4_gateway: The last IP address in the IPv4 network (if more than one address in network).\n",
    "    \"\"\"\n",
    "\n",
    "    # Convert IP address to IP interface object.\n",
    "    ip_cidr = ipaddress.ip_interface(netbox_ip_address)\n",
    "\n",
    "    # Create a dictionary to store the extracted IPv4 information.\n",
    "    ipv4_dic = dict()\n",
    "\n",
    "    # Extract the IPv4 address and add it to the dictionary.\n",
    "    ipv4_dic['ip4_address'] = f\"{ipaddress.IPv4Interface(ip_cidr).ip}\"\n",
    "\n",
    "    # Extract the IPv4 netmask and add it to the dictionary.\n",
    "    ipv4_dic['ip4_netmask'] = f\"{ipaddress.IPv4Interface(ip_cidr).netmask}\"\n",
    "\n",
    "    # Extract the IPv4 network address and add it to the dictionary.\n",
    "    ipv4_dic['ip4_network'] = f\"{ipaddress.IPv4Interface(ip_cidr).network}\"\n",
    "\n",
    "    # Extract the IPv4 prefix length and add it to the dictionary.\n",
    "    ipv4_dic['ip4_prefix'] = f\"{ipaddress.IPv4Network(ipv4_dic['ip4_network']).prefixlen}\"\n",
    "\n",
    "    # Extract the IPv4 broadcast address and add it to the dictionary.\n",
    "    ipv4_dic['ip4_broadcast'] = f\"{ipaddress.IPv4Network(ipv4_dic['ip4_network']).broadcast_address}\"\n",
    "\n",
    "    # If there is more than one address in the network, extract the last IP address as the gateway and add it to the dictionary.\n",
    "    if (ipaddress.IPv4Network(ipv4_dic['ip4_network']).num_addresses) > 1:\n",
    "        ipv4_dic['ip4_gateway'] = f\"{list(ipaddress.IPv4Network(ipv4_dic['ip4_network']).hosts())[-1]}\"\n",
    "\n",
    "    return ipv4_dic\n"
   ]
  },
  {
   "cell_type": "code",
   "execution_count": 3,
   "metadata": {},
   "outputs": [
    {
     "data": {
      "text/plain": [
       "{'ip4_address': '192.168.1.0',\n",
       " 'ip4_netmask': '255.255.255.0',\n",
       " 'ip4_network': '192.168.1.0/24',\n",
       " 'ip4_prefix': '24',\n",
       " 'ip4_broadcast': '192.168.1.255',\n",
       " 'ip4_gateway': '192.168.1.254'}"
      ]
     },
     "execution_count": 3,
     "metadata": {},
     "output_type": "execute_result"
    }
   ],
   "source": [
    "extract_ipv4_info('192.168.1.0/24')"
   ]
  }
 ],
 "metadata": {
  "kernelspec": {
   "display_name": "Python 3",
   "language": "python",
   "name": "python3"
  },
  "language_info": {
   "codemirror_mode": {
    "name": "ipython",
    "version": 3
   },
   "file_extension": ".py",
   "mimetype": "text/x-python",
   "name": "python",
   "nbconvert_exporter": "python",
   "pygments_lexer": "ipython3",
   "version": "3.7.8"
  },
  "orig_nbformat": 4
 },
 "nbformat": 4,
 "nbformat_minor": 2
}
