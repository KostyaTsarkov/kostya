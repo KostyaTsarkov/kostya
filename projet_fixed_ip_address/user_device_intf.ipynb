{
 "cells": [
  {
   "cell_type": "code",
   "execution_count": null,
   "metadata": {},
   "outputs": [],
   "source": [
    "from nornir import InitNornir\n",
    "import pynetbox\n",
    "from jinja2 import Environment, FileSystemLoader\n",
    "import json\n",
    "from pprint import pprint\n",
    "from deepdiff import DeepDiff\n",
    "from deepdiff import Delta\n",
    "from deepdiff.serialization import json_dumps, json_loads\n",
    "import re"
   ]
  },
  {
   "cell_type": "code",
   "execution_count": null,
   "metadata": {},
   "outputs": [],
   "source": [
    "# Init Nornir\n",
    "nr = InitNornir(\n",
    "    inventory={\n",
    "        \"plugin\": \"NetBoxInventory2\",\n",
    "        \"options\": {\n",
    "            \"nb_url\": \"http://10.30.1.226:8000\",\n",
    "            \"nb_token\": \"dc5b766afda60e647a9fcc384c736a9689da8618\",\n",
    "            \"group_file\": \"./inventory/groups.yml\",\n",
    "            \"defaults_file\": \"./inventory/defaults.yml\",\n",
    "        },\n",
    "    },\n",
    ")"
   ]
  },
  {
   "cell_type": "code",
   "execution_count": null,
   "metadata": {},
   "outputs": [],
   "source": [
    "# Init pynetbox\n",
    "nb_url = nr.config.inventory.options['nb_url']\n",
    "nb_token = nr.config.inventory.options['nb_token']\n",
    "nb = pynetbox.api(\n",
    "    nb_url,\n",
    "    token=nb_token\n",
    ")"
   ]
  },
  {
   "cell_type": "code",
   "execution_count": null,
   "metadata": {},
   "outputs": [],
   "source": [
    "templates_path = \"./templates/\""
   ]
  },
  {
   "cell_type": "code",
   "execution_count": null,
   "metadata": {},
   "outputs": [],
   "source": [
    "changes2 = list([{\n",
    "    'id': 136, 'mtu': 1500, 'mac_address': None, 'speed': 1000000, 'duplex': 'full', 'description': 'T-SIDOROV', 'mode': 'access', 'untagged_vlan': 8 \n",
    "}])"
   ]
  },
  {
   "cell_type": "code",
   "execution_count": null,
   "metadata": {},
   "outputs": [],
   "source": [
    "\"\"\" template_file = \"netbox_interface_id.template\"\n",
    "environment = Environment(loader=FileSystemLoader(templates_path)) # загружаем шаблон для заполнения\n",
    "template = environment.get_template(template_file)\n",
    "content = None \"\"\"\n",
    "\n",
    "device_intf_id1 = 136\n",
    "device_intf_id2 = 606\n",
    "interface = ['mtu','mac_address','speed','duplex','description','mode','untagged_vlan']\n",
    "get_device_interface1 = nb.dcim.interfaces.get(device_intf_id1) # по ID находим интерфейс в netbox\n",
    "get_device_interface2 = nb.dcim.interfaces.get(device_intf_id2)\n",
    "dev1 = list(get_device_interface1)\n",
    "dev2 = list(get_device_interface2)\n",
    "data = []\n",
    "changes = dict()\n",
    "change_key = ['id']\n",
    "new_value = [device_intf_id1]\n",
    "\n",
    "for _ in range(len(dev2)):\n",
    "\n",
    "    if dev2[_][0] in interface and dev2[_][1] != '' and dev2[_][1] != None:\n",
    "    #if dev2[_][0] in interface:\n",
    "        change_key.append(dev2[_][0])\n",
    "        if isinstance(dev2[_][1], dict):\n",
    "            new_value.append(list(dev2[_][1].values())[0])\n",
    "        else:\n",
    "            new_value.append(dev2[_][1])\n",
    "changes = [dict(zip(change_key,new_value))]\n",
    "\n",
    "print(changes)\n",
    "#nb.dcim.interfaces.update(changes)"
   ]
  }
 ],
 "metadata": {
  "kernelspec": {
   "display_name": "Python 3",
   "language": "python",
   "name": "python3"
  },
  "language_info": {
   "codemirror_mode": {
    "name": "ipython",
    "version": 3
   },
   "file_extension": ".py",
   "mimetype": "text/x-python",
   "name": "python",
   "nbconvert_exporter": "python",
   "pygments_lexer": "ipython3",
   "version": "3.7.8 (tags/v3.7.8:4b47a5b6ba, Jun 28 2020, 08:53:46) [MSC v.1916 64 bit (AMD64)]"
  },
  "orig_nbformat": 4,
  "vscode": {
   "interpreter": {
    "hash": "0a54084e6b208ee8d1ce3989ffc20924477a5f55f5a43e22e699a6741623861e"
   }
  }
 },
 "nbformat": 4,
 "nbformat_minor": 2
}
