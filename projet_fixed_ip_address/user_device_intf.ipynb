{
 "cells": [
  {
   "cell_type": "code",
   "execution_count": 52,
   "metadata": {},
   "outputs": [],
   "source": [
    "from nornir import InitNornir\n",
    "import pynetbox\n",
    "import ast\n",
    "from pprint import pprint\n",
    "from global_var import (templates_path)\n",
    "from jinja2 import Environment, FileSystemLoader"
   ]
  },
  {
   "cell_type": "code",
   "execution_count": 53,
   "metadata": {},
   "outputs": [],
   "source": [
    "# Init Nornir\n",
    "nr = InitNornir(\n",
    "    inventory={\n",
    "        \"plugin\": \"NetBoxInventory2\",\n",
    "        \"options\": {\n",
    "            \"nb_url\": \"http://10.30.1.226:8000\",\n",
    "            \"nb_token\": \"dc5b766afda60e647a9fcc384c736a9689da8618\",\n",
    "            \"group_file\": \"./inventory/groups.yml\",\n",
    "            \"defaults_file\": \"./inventory/defaults.yml\",\n",
    "        },\n",
    "    },\n",
    ")"
   ]
  },
  {
   "cell_type": "code",
   "execution_count": 54,
   "metadata": {},
   "outputs": [],
   "source": [
    "# Init pynetbox\n",
    "nb_url = nr.config.inventory.options['nb_url']\n",
    "nb_token = nr.config.inventory.options['nb_token']\n",
    "nb = pynetbox.api(\n",
    "    nb_url,\n",
    "    token=nb_token\n",
    ")"
   ]
  },
  {
   "cell_type": "code",
   "execution_count": 55,
   "metadata": {},
   "outputs": [
    {
     "data": {
      "text/plain": [
       "[Ethernet 0]"
      ]
     },
     "execution_count": 55,
     "metadata": {},
     "output_type": "execute_result"
    }
   ],
   "source": [
    "changes = [\n",
    "    {\n",
    "        'id': 606, \n",
    "        'mtu': 1500,  \n",
    "        'duplex': 'auto', \n",
    "        'description': 'T-SIDOROV', \n",
    "        'mode': 'access', \n",
    "        'untagged_vlan': 8\n",
    "     }\n",
    "]\n",
    "\n",
    "nb.dcim.interfaces.update(changes)"
   ]
  },
  {
   "cell_type": "code",
   "execution_count": 56,
   "metadata": {},
   "outputs": [],
   "source": [
    "#network_device = 136\n",
    "user_device = 606\n",
    "interface = ['mtu','mac_address','speed','duplex','description','mode','untagged_vlan']\n",
    "#get_network_device = list(nb.dcim.interfaces.get(network_device)) # по ID находим интерфейс в netbox\n",
    "get_user_device = nb.dcim.interfaces.get(user_device)\n",
    "\n",
    "if get_user_device['connected_endpoints_reachable']:\n",
    "    network_device = get_user_device['connected_endpoints'][0]['id']\n",
    "    #data = []\n",
    "    changes = dict()\n",
    "    change_key = ['id']\n",
    "    new_value = [network_device]\n",
    "\n",
    "    for value in get_user_device:\n",
    "        if value[0] in interface and value[1] != '' and value[1] != None:\n",
    "        #if value[0] in interface:\n",
    "            change_key.append(value[0])\n",
    "            if isinstance(value[1], dict):\n",
    "                new_value.append(list(value[1].values())[0])\n",
    "            else:\n",
    "                new_value.append(value[1])\n",
    "    changes = [dict(zip(change_key,new_value))]\n",
    "\n",
    "    print(changes)\n",
    "#nb.dcim.interfaces.update(changes)"
   ]
  },
  {
   "cell_type": "code",
   "execution_count": 57,
   "metadata": {},
   "outputs": [],
   "source": [
    "def check_connection_device(device_intf_id):\n",
    "    \"\"\"\n",
    "    Проверяем, есть ли соединение у интерфейса\n",
    "    Возвращаем словарь\n",
    "    :param device_intf_id: ссылка на объект интерфейса pynetbox\n",
    "    :return: device\n",
    "    \"\"\"\n",
    "    intf = nb.dcim.interfaces.get(device_intf_id)\n",
    "    device_keys = ['role','device_name','device_intf_name','neighbor'] # список ключей для словаря devices\n",
    "    device = {}\n",
    "    #pprint(dict(intf))\n",
    "    if intf: # если интерфей существует\n",
    "        #evices_keys = ['role','device_name','device_intf_name'] # список ключей для словаря devices\n",
    "        device_values = []\n",
    "        #-> Проверяем на наличие подключения\n",
    "        if intf['connected_endpoints_reachable']:\n",
    "            device_values.append(intf.device.device_role.slug) # роль устройства\n",
    "            device_values.append(intf.device.name) # имя устройства\n",
    "            device_values.append(intf.name) # имя интерфейса устройчтва\n",
    "            device_values.append(intf.connected_endpoints[0].device) # устройство-сосед\n",
    "        else:\n",
    "            device_values.append(intf.device.device_role.slug) # роль устройства\n",
    "            device_values.append(intf.device.name) # имя устройства\n",
    "            device_values.append(intf.name) # имя интерфейса устройчтва\n",
    "            device_values.append(None) # устройство-сосед\n",
    "        #-<\n",
    "        device = dict(zip(device_keys,device_values)) # получаем словарь\n",
    "        #print(device)\n",
    "        return device\n",
    "    \n",
    "    else: \n",
    "        print('No interface with the ID #{}'.format(device_intf_id))\n",
    "        return None"
   ]
  },
  {
   "cell_type": "code",
   "execution_count": 58,
   "metadata": {},
   "outputs": [],
   "source": [
    "def template_fill(a_device_id,a_device_type,b_object_id,b_device_type,status):\n",
    "    \n",
    "    template_file = \"netbox_cable.template\"\n",
    "    environment = Environment(loader=FileSystemLoader(templates_path)) # загружаем шаблон для заполнения\n",
    "    template = environment.get_template(template_file)\n",
    "    #print(a_device_id,b_object_id,status)\n",
    "    content = None\n",
    "    try:\n",
    "        content = template.render( # заполняем шаблон\n",
    "                                    a_object_id = a_device_id,\n",
    "                                    a_object_type = a_device_type,\n",
    "                                    b_object_id = b_object_id,\n",
    "                                    b_object_type = b_device_type,\n",
    "                                    status = status\n",
    "                                )\n",
    "    except: \n",
    "        # > добавляем запись в журнал\n",
    "        comment,level =  'Not enough data to fill out the template','warning'                \n",
    "        #print(journal_template_fill(comment,level,global_id,global_dcim))\n",
    "        # <\n",
    "    else:\n",
    "        #print(\"Filling in the template...\\n{}\".format(content)) \n",
    "        print(\"Filling in the template...\")\n",
    "    \n",
    "    return content"
   ]
  },
  {
   "cell_type": "code",
   "execution_count": 80,
   "metadata": {},
   "outputs": [
    {
     "name": "stdout",
     "output_type": "stream",
     "text": [
      "Оба устройства имеют подключение\n"
     ]
    }
   ],
   "source": [
    "def nb_cable_conn():\n",
    "    \n",
    "    templates_roles = ['access_switch', 'user_device'] # присваиваем значение из netbox (\"произвольные\" данные)\n",
    "    device_roles = []\n",
    "    a_device_intf_id = 135 # мы точно знаем порт коммутатора (136)\n",
    "    b_device_intf_id = 606 # выбираем из списка доступных (606)\n",
    "    a_device_type = b_device_type = 'dcim.interface'\n",
    "    a_device = check_connection_device(a_device_intf_id)\n",
    "    b_device = check_connection_device(b_device_intf_id)\n",
    "\n",
    "    if a_device and b_device:\n",
    "        device_roles.append(a_device['role']) # заполняем список ролей\n",
    "        device_roles.append(b_device['role'])\n",
    "        \n",
    "    if set(device_roles) == set(templates_roles): # проверяем, что получили устройства с разными ролями и соответствущие списку\n",
    "        \n",
    "        if a_device['neighbor'] and b_device['neighbor']: # если оба устройства получены\n",
    "            # Будем ли удалять подключение (cable)?\n",
    "            print('Оба устройства имеют подключение')\n",
    "        elif a_device['neighbor']:\n",
    "            # Будем ли удалять подключение (cable)?\n",
    "            print('Интерфейс \"{}\" устройства \"{}\" подключен к другому устройству'.format(a_device['device_intf_name'],a_device['device_name']))\n",
    "        elif b_device['neighbor']:\n",
    "            # Будем ли удалять (cable)?\n",
    "            print('Интерфейс \"{}\" устройства \"{}\" подключен к другому устройству'.format(b_device['device_intf_name'],b_device['device_name']))\n",
    "        else: # оба устройства не имеют подключений\n",
    "            content = ast.literal_eval(template_fill(a_device_intf_id,a_device_type,b_device_intf_id,b_device_type,status = 'connected'))\n",
    "            print('Оба устройства не имеют подключений, создаем соединение')\n",
    "            # POST cable\n",
    "            nb.dcim.cables.create(content) # выполняем подключение (создание cable)\n",
    "    #-> Проверяем роли устройств, т.к. соеднинение должно быть\n",
    "    #   между конечным пользовательским устройством и коммутатором доступа\n",
    "    \n",
    "    #-<\n",
    "    \n",
    "    #-> Удаляем текущее подключение\n",
    "    \n",
    "    #-<\n",
    "    \n",
    "    return None\n",
    "\n",
    "nb_cable_conn()"
   ]
  }
 ],
 "metadata": {
  "kernelspec": {
   "display_name": "Python 3",
   "language": "python",
   "name": "python3"
  },
  "language_info": {
   "codemirror_mode": {
    "name": "ipython",
    "version": 3
   },
   "file_extension": ".py",
   "mimetype": "text/x-python",
   "name": "python",
   "nbconvert_exporter": "python",
   "pygments_lexer": "ipython3",
   "version": "3.7.8"
  },
  "orig_nbformat": 4,
  "vscode": {
   "interpreter": {
    "hash": "0a54084e6b208ee8d1ce3989ffc20924477a5f55f5a43e22e699a6741623861e"
   }
  }
 },
 "nbformat": 4,
 "nbformat_minor": 2
}
