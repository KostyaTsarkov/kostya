{
 "cells": [
  {
   "cell_type": "code",
   "execution_count": 4,
   "metadata": {},
   "outputs": [],
   "source": [
    "from flask import request, Response\n",
    "from flask import Flask\n",
    "import pprint\n",
    "from config import netbox_api"
   ]
  },
  {
   "cell_type": "code",
   "execution_count": 5,
   "metadata": {},
   "outputs": [],
   "source": [
    "def test():\n",
    "    # Получаем данные через flask от webhook netbox:\n",
    "    #event = request.json[\"event\"] # type: ignore\n",
    "    mng_int_id = request.json['data']['id'] # type: ignore\n",
    "    #prechange = request.json['snapshots']['prechange'] # type: ignore\n",
    "    #postchange = request.json['snapshots']['postchange'] # type: ignore\n",
    "    get_device_interface = netbox_api.dcim.interfaces.get(mng_int_id)\n",
    "    \n",
    "    #pprint.pprint(request.json)\n",
    "    local_context = get_device_interface.device.local_context_data\n",
    "    config_contexts = netbox_api.extras.config_contexts.all()\n",
    "    #print(type(config_contexts))\n",
    "    print([config_contexts])\n",
    "    # Запрашиваем данные через netbox_api:\n",
    "    \"\"\" get_device_interface = netbox_api.dcim.interfaces.get(mng_int_id)\n",
    "    local_context = get_device_interface.device.local_context_data\n",
    "    print(local_context) \"\"\"\n",
    "\n",
    "\n",
    "    return Response(status=204)"
   ]
  },
  {
   "cell_type": "code",
   "execution_count": null,
   "metadata": {},
   "outputs": [],
   "source": [
    "# Create a Flask instance\n",
    "app = Flask(__name__)\n",
    "\"\"\"\n",
    "Webhook POST\n",
    "    Name:'Fixed IP into DHCPd'\n",
    "    Content types: 'IPAM > IP Address'\n",
    "\"\"\"\n",
    "app.add_url_rule(\"/api/fixed_ip\",\n",
    "                 methods=[\"POST\"],\n",
    "                 view_func=test)\n",
    "\"\"\"\n",
    "Webhook POST\n",
    "    Name:'Change the cable'\n",
    "    Content types: 'DCIM > Cable'\n",
    "\"\"\"\n",
    "app.add_url_rule(\"/api/cable_change\",\n",
    "                methods=['POST'],\n",
    "                view_func=test)\n",
    "\"\"\"\n",
    "Webhook POST\n",
    "    Name:'Update the interface'\n",
    "    Content types: 'DCIM > Interfaces'\n",
    "\"\"\"\n",
    "app.add_url_rule(\"/api/int_update\",\n",
    "                 methods=['POST'],\n",
    "                 view_func=test)\n",
    "    \n",
    "if __name__ == \"__main__\": \n",
    "    app.run(host='0.0.0.0', port=8080)"
   ]
  }
 ],
 "metadata": {
  "kernelspec": {
   "display_name": "Python 3",
   "language": "python",
   "name": "python3"
  },
  "language_info": {
   "codemirror_mode": {
    "name": "ipython",
    "version": 3
   },
   "file_extension": ".py",
   "mimetype": "text/x-python",
   "name": "python",
   "nbconvert_exporter": "python",
   "pygments_lexer": "ipython3",
   "version": "3.7.8"
  },
  "orig_nbformat": 4
 },
 "nbformat": 4,
 "nbformat_minor": 2
}
