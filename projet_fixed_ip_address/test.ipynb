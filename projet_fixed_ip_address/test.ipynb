{
 "cells": [
  {
   "cell_type": "code",
   "execution_count": null,
   "metadata": {},
   "outputs": [],
   "source": [
    "from flask import request, Response\n",
    "from flask import Flask\n",
    "import pprint\n",
    "from config import netbox_api\n",
    "from types import SimpleNamespace"
   ]
  },
  {
   "cell_type": "code",
   "execution_count": null,
   "metadata": {},
   "outputs": [],
   "source": [
    "from nornir import InitNornir\n",
    "from credentials import(netbox_url,\n",
    "                        netbox_token,\n",
    "                        device_username,\n",
    "                        device_password)\n",
    "from nornir_napalm.plugins.tasks import napalm_get\n",
    "def create_nornir_session():\n",
    "    \"\"\" \n",
    "    Инициализируем nornir, но для \"hosts\" используем данные из netbox\n",
    "    :return: nr_session\n",
    "    \"\"\"\n",
    "    nr_session = InitNornir(\n",
    "        inventory={\n",
    "            \"plugin\": \"NetBoxInventory2\",\n",
    "            \"options\": {\n",
    "                \"nb_url\": netbox_url,\n",
    "                \"nb_token\": netbox_token,\n",
    "                \"group_file\": \"./inventory/groups.yml\",\n",
    "                \"defaults_file\": \"./inventory/defaults.yml\",\n",
    "            },\n",
    "        },\n",
    "    )\n",
    "    return nr_session"
   ]
  },
  {
   "cell_type": "code",
   "execution_count": null,
   "metadata": {},
   "outputs": [],
   "source": [
    "def test():\n",
    "    # Получаем данные через flask от webhook netbox:\n",
    "    mng_int_id = request.json['data']['id'] # type: ignore\n",
    "    get_device_interface = netbox_api.dcim.interfaces.get(mng_int_id)\n",
    "    device_id = get_device_interface.device.id # type: ignore\n",
    "    d = dict(netbox_api.dcim.devices.get(device_id).config_context) # type: ignore\n",
    "    pprint.pprint(d)\n",
    "    config_context = SimpleNamespace(**d)\n",
    "    #print(key for key, value in config_context.items())\n",
    "    #print(config_context.device_username)\n",
    "\n",
    "    nr = create_nornir_session()\n",
    "\n",
    "    sw = nr.filter(hostname = '10.30.1.105') # производим отбор по конкретному хосту\n",
    "    sw.inventory.hosts['SW-PLGN-1'].username = config_context.device_username\n",
    "    sw.inventory.hosts['SW-PLGN-1'].password = config_context.device_password\n",
    "    get_int = sw.run(task=napalm_get, getters=['get_interfaces'])\n",
    "    print(get_int)\n",
    "    \n",
    "    return Response(status=204)"
   ]
  },
  {
   "cell_type": "code",
   "execution_count": null,
   "metadata": {},
   "outputs": [],
   "source": [
    "# Create a Flask instance\n",
    "app = Flask(__name__)\n",
    "\"\"\"\n",
    "Webhook POST\n",
    "    Name:'Fixed IP into DHCPd'\n",
    "    Content types: 'IPAM > IP Address'\n",
    "\"\"\"\n",
    "app.add_url_rule(\"/api/fixed_ip\",\n",
    "                 methods=[\"POST\"],\n",
    "                 view_func=test)\n",
    "\"\"\"\n",
    "Webhook POST\n",
    "    Name:'Change the cable'\n",
    "    Content types: 'DCIM > Cable'\n",
    "\"\"\"\n",
    "app.add_url_rule(\"/api/cable_change\",\n",
    "                methods=['POST'],\n",
    "                view_func=test)\n",
    "\"\"\"\n",
    "Webhook POST\n",
    "    Name:'Update the interface'\n",
    "    Content types: 'DCIM > Interfaces'\n",
    "\"\"\"\n",
    "app.add_url_rule(\"/api/int_update\",\n",
    "                 methods=['POST'],\n",
    "                 view_func=test)\n",
    "    \n",
    "if __name__ == \"__main__\": \n",
    "    app.run(host='0.0.0.0', port=8080)"
   ]
  }
 ],
 "metadata": {
  "kernelspec": {
   "display_name": "Python 3",
   "language": "python",
   "name": "python3"
  },
  "language_info": {
   "codemirror_mode": {
    "name": "ipython",
    "version": 3
   },
   "file_extension": ".py",
   "mimetype": "text/x-python",
   "name": "python",
   "nbconvert_exporter": "python",
   "pygments_lexer": "ipython3",
   "version": "3.7.8"
  },
  "orig_nbformat": 4
 },
 "nbformat": 4,
 "nbformat_minor": 2
}
