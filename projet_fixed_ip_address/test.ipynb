{
 "cells": [
  {
   "cell_type": "code",
   "execution_count": 1,
   "metadata": {},
   "outputs": [],
   "source": [
    "from flask import request, Response\n",
    "from flask import Flask\n",
    "import pprint\n",
    "from config import netbox_api\n",
    "from types import SimpleNamespace"
   ]
  },
  {
   "cell_type": "code",
   "execution_count": 2,
   "metadata": {},
   "outputs": [],
   "source": [
    "from nornir import InitNornir\n",
    "from credentials import(netbox_url,\n",
    "                        netbox_token,\n",
    "                        device_username,\n",
    "                        device_password)\n",
    "from nornir_napalm.plugins.tasks import napalm_get\n",
    "def create_nornir_session():\n",
    "    \"\"\" \n",
    "    Инициализируем nornir, но для \"hosts\" используем данные из netbox\n",
    "    :return: nr_session\n",
    "    \"\"\"\n",
    "    nr_session = InitNornir(\n",
    "        inventory={\n",
    "            \"plugin\": \"NetBoxInventory2\",\n",
    "            \"options\": {\n",
    "                \"nb_url\": netbox_url,\n",
    "                \"nb_token\": netbox_token,\n",
    "                \"group_file\": \"./inventory/groups.yml\",\n",
    "                \"defaults_file\": \"./inventory/defaults.yml\",\n",
    "            },\n",
    "        },\n",
    "    )\n",
    "    return nr_session"
   ]
  },
  {
   "cell_type": "code",
   "execution_count": null,
   "metadata": {},
   "outputs": [],
   "source": [
    "def test():\n",
    "    # Получаем данные через flask от webhook netbox:\n",
    "    mng_int_id = request.json['data']['id'] # type: ignore\n",
    "    get_device_interface = netbox_api.dcim.interfaces.get(mng_int_id)\n",
    "    device_id = get_device_interface.device.id # type: ignore\n",
    "    d = dict(netbox_api.dcim.devices.get(device_id).config_context) # type: ignore\n",
    "    pprint.pprint(d)\n",
    "    config_context = SimpleNamespace(**d)\n",
    "    #print(key for key, value in config_context.items())\n",
    "    #print(config_context.device_username)\n",
    "\n",
    "    nr = create_nornir_session()\n",
    "\n",
    "    sw = nr.filter(hostname = '10.30.1.105') # производим отбор по конкретному хосту\n",
    "    sw.inventory.hosts['SW-PLGN-1'].username = config_context.device_username\n",
    "    sw.inventory.hosts['SW-PLGN-1'].password = config_context.device_password\n",
    "    get_int = sw.run(task=napalm_get, getters=['get_interfaces'])\n",
    "    print(get_int)\n",
    "    \n",
    "    return Response(status=204)"
   ]
  },
  {
   "cell_type": "code",
   "execution_count": 44,
   "metadata": {},
   "outputs": [
    {
     "name": "stdout",
     "output_type": "stream",
     "text": [
      "Ethernet 0\n"
     ]
    },
    {
     "ename": "AttributeError",
     "evalue": "'list' object has no attribute 'items'",
     "output_type": "error",
     "traceback": [
      "\u001b[1;31m---------------------------------------------------------------------------\u001b[0m",
      "\u001b[1;31mAttributeError\u001b[0m                            Traceback (most recent call last)",
      "\u001b[1;32m~\\AppData\\Local\\Temp\\ipykernel_14552\\2845727869.py\u001b[0m in \u001b[0;36m<module>\u001b[1;34m\u001b[0m\n\u001b[0;32m     27\u001b[0m \u001b[1;31m#print('Clear {} netbox interface config'.format(device_intf))\u001b[0m\u001b[1;33m\u001b[0m\u001b[1;33m\u001b[0m\u001b[1;33m\u001b[0m\u001b[0m\n\u001b[0;32m     28\u001b[0m \u001b[0mnetbox_api\u001b[0m\u001b[1;33m.\u001b[0m\u001b[0mipam\u001b[0m\u001b[1;33m.\u001b[0m\u001b[0mip_addresses\u001b[0m\u001b[1;33m.\u001b[0m\u001b[0mcreate\u001b[0m\u001b[1;33m(\u001b[0m\u001b[1;33m[\u001b[0m\u001b[0mchanges\u001b[0m\u001b[1;33m]\u001b[0m\u001b[1;33m)\u001b[0m\u001b[1;33m\u001b[0m\u001b[1;33m\u001b[0m\u001b[0m\n\u001b[1;32m---> 29\u001b[1;33m \u001b[0mdevice\u001b[0m\u001b[1;33m.\u001b[0m\u001b[0mupdate\u001b[0m\u001b[1;33m(\u001b[0m\u001b[1;33m[\u001b[0m\u001b[1;33m{\u001b[0m\u001b[1;34m\"primary_ip\"\u001b[0m\u001b[1;33m:\u001b[0m\u001b[0mstr\u001b[0m\u001b[1;33m(\u001b[0m\u001b[0mget_available_ips\u001b[0m\u001b[1;33m[\u001b[0m\u001b[1;36m0\u001b[0m\u001b[1;33m]\u001b[0m\u001b[1;33m)\u001b[0m\u001b[1;33m}\u001b[0m\u001b[1;33m]\u001b[0m\u001b[1;33m)\u001b[0m\u001b[1;33m\u001b[0m\u001b[1;33m\u001b[0m\u001b[0m\n\u001b[0m\u001b[0;32m     30\u001b[0m \u001b[0mprint\u001b[0m\u001b[1;33m(\u001b[0m\u001b[0mchanges\u001b[0m\u001b[1;33m)\u001b[0m\u001b[1;33m\u001b[0m\u001b[1;33m\u001b[0m\u001b[0m\n",
      "\u001b[1;32m~\\AppData\\Roaming\\Python\\Python37\\site-packages\\pynetbox\\core\\response.py\u001b[0m in \u001b[0;36mupdate\u001b[1;34m(self, data)\u001b[0m\n\u001b[0;32m    591\u001b[0m         \"\"\"\n\u001b[0;32m    592\u001b[0m \u001b[1;33m\u001b[0m\u001b[0m\n\u001b[1;32m--> 593\u001b[1;33m         \u001b[1;32mfor\u001b[0m \u001b[0mk\u001b[0m\u001b[1;33m,\u001b[0m \u001b[0mv\u001b[0m \u001b[1;32min\u001b[0m \u001b[0mdata\u001b[0m\u001b[1;33m.\u001b[0m\u001b[0mitems\u001b[0m\u001b[1;33m(\u001b[0m\u001b[1;33m)\u001b[0m\u001b[1;33m:\u001b[0m\u001b[1;33m\u001b[0m\u001b[1;33m\u001b[0m\u001b[0m\n\u001b[0m\u001b[0;32m    594\u001b[0m             \u001b[0msetattr\u001b[0m\u001b[1;33m(\u001b[0m\u001b[0mself\u001b[0m\u001b[1;33m,\u001b[0m \u001b[0mk\u001b[0m\u001b[1;33m,\u001b[0m \u001b[0mv\u001b[0m\u001b[1;33m)\u001b[0m\u001b[1;33m\u001b[0m\u001b[1;33m\u001b[0m\u001b[0m\n\u001b[0;32m    595\u001b[0m         \u001b[1;32mreturn\u001b[0m \u001b[0mself\u001b[0m\u001b[1;33m.\u001b[0m\u001b[0msave\u001b[0m\u001b[1;33m(\u001b[0m\u001b[1;33m)\u001b[0m\u001b[1;33m\u001b[0m\u001b[1;33m\u001b[0m\u001b[0m\n",
      "\u001b[1;31mAttributeError\u001b[0m: 'list' object has no attribute 'items'"
     ]
    }
   ],
   "source": [
    "# api/ipam/prefixes/39/available-ips/\n",
    "get_device_interface = netbox_api.dcim.interfaces.get(764)\n",
    "print(get_device_interface)\n",
    "intf = get_device_interface\n",
    "if intf.untagged_vlan and intf.mac_address:\n",
    "    vlan_id = intf.untagged_vlan.vid\n",
    "    \n",
    "    device = netbox_api.dcim.devices.get(intf.device.id)\n",
    "   \n",
    "    if device.primary_ip == False:\n",
    "        \n",
    "        get_available_ips = netbox_api.ipam.prefixes.get(vlan_vid = vlan_id).available_ips.list()\n",
    "        \n",
    "        pprint.pprint(get_available_ips[0])\n",
    "\n",
    "    \n",
    "changes = dict()\n",
    "#changes = dict.fromkeys(config_context.interface, None)\n",
    "#changes['id'] = 117\n",
    "changes['address'] = str(get_available_ips[0])\n",
    "changes['status'] = 'dhcp'\n",
    "changes['assigned_object_type'] = 'dcim.interface'\n",
    "changes['assigned_object_id'] = intf.id\n",
    "changes['dns_name'] = str(device.name)\n",
    "changes['description'] = str(device.name)\n",
    "#netbox_api.dcim.interfaces.update([changes])\n",
    "#print('Clear {} netbox interface config'.format(device_intf))\n",
    "netbox_api.ipam.ip_addresses.create([changes])\n",
    "device.update([{\"primary_ip\":str(get_available_ips[0])}])\n",
    "print(changes)"
   ]
  },
  {
   "cell_type": "code",
   "execution_count": null,
   "metadata": {},
   "outputs": [],
   "source": [
    "# Create a Flask instance\n",
    "app = Flask(__name__)\n",
    "\"\"\"\n",
    "Webhook POST\n",
    "    Name:'Fixed IP into DHCPd'\n",
    "    Content types: 'IPAM > IP Address'\n",
    "\"\"\"\n",
    "app.add_url_rule(\"/api/fixed_ip\",\n",
    "                 methods=[\"POST\"],\n",
    "                 view_func=test)\n",
    "\"\"\"\n",
    "Webhook POST\n",
    "    Name:'Change the cable'\n",
    "    Content types: 'DCIM > Cable'\n",
    "\"\"\"\n",
    "app.add_url_rule(\"/api/cable_change\",\n",
    "                methods=['POST'],\n",
    "                view_func=test)\n",
    "\"\"\"\n",
    "Webhook POST\n",
    "    Name:'Update the interface'\n",
    "    Content types: 'DCIM > Interfaces'\n",
    "\"\"\"\n",
    "app.add_url_rule(\"/api/int_update\",\n",
    "                 methods=['POST'],\n",
    "                 view_func=test)\n",
    "    \n",
    "if __name__ == \"__main__\": \n",
    "    app.run(host='0.0.0.0', port=8080)"
   ]
  }
 ],
 "metadata": {
  "kernelspec": {
   "display_name": "Python 3",
   "language": "python",
   "name": "python3"
  },
  "language_info": {
   "codemirror_mode": {
    "name": "ipython",
    "version": 3
   },
   "file_extension": ".py",
   "mimetype": "text/x-python",
   "name": "python",
   "nbconvert_exporter": "python",
   "pygments_lexer": "ipython3",
   "version": "3.7.8"
  },
  "orig_nbformat": 4
 },
 "nbformat": 4,
 "nbformat_minor": 2
}
