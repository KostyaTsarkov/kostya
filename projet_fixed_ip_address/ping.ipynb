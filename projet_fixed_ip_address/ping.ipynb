{
 "cells": [
  {
   "cell_type": "code",
   "execution_count": 1,
   "metadata": {},
   "outputs": [],
   "source": [
    "from multiping import MultiPing"
   ]
  },
  {
   "cell_type": "code",
   "execution_count": 7,
   "metadata": {},
   "outputs": [
    {
     "name": "stdout",
     "output_type": "stream",
     "text": [
      "sending...\n",
      "{'10.30.1.105': 0.009345769882202148, '10.30.1.108': 0.009125947952270508}\n",
      "['10.30.1.111', '10.30.1.109']\n"
     ]
    }
   ],
   "source": [
    "addr = ['10.30.1.105', '10.30.1.111', '10.30.1.108','10.30.1.109']\n",
    "print('sending...')\n",
    "mp = MultiPing(addr)\n",
    "mp.send()\n",
    "responses, no_responses = mp.receive(0.5)\n",
    "print(responses)\n",
    "print(no_responses)"
   ]
  }
 ],
 "metadata": {
  "kernelspec": {
   "display_name": "Python 3",
   "language": "python",
   "name": "python3"
  },
  "language_info": {
   "codemirror_mode": {
    "name": "ipython",
    "version": 3
   },
   "file_extension": ".py",
   "mimetype": "text/x-python",
   "name": "python",
   "nbconvert_exporter": "python",
   "pygments_lexer": "ipython3",
   "version": "3.7.8 (tags/v3.7.8:4b47a5b6ba, Jun 28 2020, 08:53:46) [MSC v.1916 64 bit (AMD64)]"
  },
  "orig_nbformat": 4,
  "vscode": {
   "interpreter": {
    "hash": "0a54084e6b208ee8d1ce3989ffc20924477a5f55f5a43e22e699a6741623861e"
   }
  }
 },
 "nbformat": 4,
 "nbformat_minor": 2
}
