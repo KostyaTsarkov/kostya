{
 "cells": [
  {
   "attachments": {},
   "cell_type": "markdown",
   "metadata": {},
   "source": [
    "Подключаем библиотеки"
   ]
  },
  {
   "cell_type": "code",
   "execution_count": null,
   "metadata": {},
   "outputs": [],
   "source": [
    "from nornir import InitNornir\n",
    "from nornir_netmiko.tasks import netmiko_send_command, netmiko_send_config\n",
    "from nornir_jinja2.plugins.tasks import template_file\n",
    "from nornir_utils.plugins.functions import print_result\n",
    "from nornir.core.task import Task, Result\n",
    "import pynetbox"
   ]
  },
  {
   "attachments": {},
   "cell_type": "markdown",
   "metadata": {},
   "source": [
    "Инициализируем nornir"
   ]
  },
  {
   "cell_type": "code",
   "execution_count": null,
   "metadata": {},
   "outputs": [],
   "source": [
    "nr = InitNornir(\n",
    "    inventory={\n",
    "        \"plugin\": \"NetBoxInventory2\",\n",
    "        \"options\": {\n",
    "            \"nb_url\": \"http://10.30.1.226:8000\",\n",
    "            \"nb_token\": \"dc5b766afda60e647a9fcc384c736a9689da8618\",\n",
    "            \"group_file\": \"./inventory/groups.yml\",\n",
    "            \"defaults_file\": \"./inventory/defaults.yml\",\n",
    "        },\n",
    "    },\n",
    ")"
   ]
  },
  {
   "cell_type": "markdown",
   "metadata": {},
   "source": [
    "Инициализируем pynetbox"
   ]
  },
  {
   "cell_type": "code",
   "execution_count": null,
   "metadata": {},
   "outputs": [],
   "source": [
    "nb_url = nr.config.inventory.options['nb_url']\n",
    "nb_token = nr.config.inventory.options['nb_token']\n",
    "nb = pynetbox.api(\n",
    "    nb_url,\n",
    "    token=nb_token\n",
    ")"
   ]
  },
  {
   "cell_type": "code",
   "execution_count": null,
   "metadata": {},
   "outputs": [],
   "source": [
    "devices = nb.dcim.devices.all()\n",
    "for device in devices:\n",
    "    print(device)"
   ]
  },
  {
   "cell_type": "code",
   "execution_count": 191,
   "metadata": {},
   "outputs": [
    {
     "data": {
      "text/plain": [
       "' for device in devices:\\n    print(device) '"
      ]
     },
     "execution_count": 191,
     "metadata": {},
     "output_type": "execute_result"
    }
   ],
   "source": [
    "#device_type = nb.dcim.device_types.get(slug='cisco_ios').id\n",
    "#device_type\n",
    "devices = nb.dcim.devices.filter(\n",
    "    role='access_switch',\n",
    "    site = 'plgn',\n",
    "    device_type = 'cisco_ios'\n",
    ")\n",
    "\"\"\" for device in devices:\n",
    "    print(device) \"\"\""
   ]
  },
  {
   "cell_type": "code",
   "execution_count": 192,
   "metadata": {},
   "outputs": [
    {
     "name": "stdout",
     "output_type": "stream",
     "text": [
      "sa\u001b[0m\n",
      "\u001b[0msa\u001b[0m\n",
      "\u001b[0m"
     ]
    }
   ],
   "source": [
    "host = \"\"\n",
    "for host in devices:\n",
    "    #print(host)\n",
    "    #print(nr.inventory.hosts[host].username)\n",
    "    print(nr.inventory.hosts[host.name].username)\n",
    "#print(nr.inventory.hosts[].username)"
   ]
  }
 ],
 "metadata": {
  "kernelspec": {
   "display_name": "Python 3.8.4 64-bit",
   "language": "python",
   "name": "python3"
  },
  "language_info": {
   "codemirror_mode": {
    "name": "ipython",
    "version": 3
   },
   "file_extension": ".py",
   "mimetype": "text/x-python",
   "name": "python",
   "nbconvert_exporter": "python",
   "pygments_lexer": "ipython3",
   "version": "3.8.4"
  },
  "orig_nbformat": 4,
  "vscode": {
   "interpreter": {
    "hash": "aee8b7b246df8f9039afb4144a1f6fd8d2ca17a180786b69acc140d282b71a49"
   }
  }
 },
 "nbformat": 4,
 "nbformat_minor": 2
}
