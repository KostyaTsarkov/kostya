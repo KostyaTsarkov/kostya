{
 "cells": [
  {
   "attachments": {},
   "cell_type": "markdown",
   "metadata": {},
   "source": [
    "Подключаем библиотеки"
   ]
  },
  {
   "cell_type": "code",
   "execution_count": 172,
   "metadata": {},
   "outputs": [],
   "source": [
    "from nornir import InitNornir\n",
    "from nornir_netmiko.tasks import netmiko_send_command, netmiko_send_config\n",
    "from nornir_jinja2.plugins.tasks import template_file\n",
    "from nornir_utils.plugins.functions import print_result\n",
    "from nornir.core.task import Task, Result\n",
    "import pynetbox\n",
    "from nornir_napalm.plugins.tasks import napalm_get\n",
    "from nornir_napalm.plugins.tasks import napalm_cli\n",
    "from nornir.core.filter import F\n",
    "#from nornir.core.inventory import Host\n",
    "#import json"
   ]
  },
  {
   "attachments": {},
   "cell_type": "markdown",
   "metadata": {},
   "source": [
    "Инициализируем nornir"
   ]
  },
  {
   "cell_type": "code",
   "execution_count": 173,
   "metadata": {},
   "outputs": [],
   "source": [
    "nr = InitNornir(\n",
    "    inventory={\n",
    "        \"plugin\": \"NetBoxInventory2\",\n",
    "        \"options\": {\n",
    "            \"nb_url\": \"http://10.30.1.226:8000\",\n",
    "            \"nb_token\": \"dc5b766afda60e647a9fcc384c736a9689da8618\",\n",
    "            \"group_file\": \"./inventory/groups.yml\",\n",
    "            \"defaults_file\": \"./inventory/defaults.yml\",\n",
    "        },\n",
    "    },\n",
    ")"
   ]
  },
  {
   "cell_type": "markdown",
   "metadata": {},
   "source": [
    "Инициализируем pynetbox"
   ]
  },
  {
   "cell_type": "code",
   "execution_count": 174,
   "metadata": {},
   "outputs": [],
   "source": [
    "nb_url = nr.config.inventory.options['nb_url']\n",
    "nb_token = nr.config.inventory.options['nb_token']\n",
    "nb = pynetbox.api(\n",
    "    nb_url,\n",
    "    token=nb_token\n",
    ")"
   ]
  },
  {
   "cell_type": "code",
   "execution_count": 175,
   "metadata": {},
   "outputs": [],
   "source": [
    "device_type = nb.dcim.device_types.get(slug='cisco_ios').id\n",
    "device_type\n",
    "\n",
    "\"\"\" devices = nb.dcim.devices.filter(\n",
    "    role='access_switch',\n",
    "    site = 'plgn',\n",
    "    device_type = 'cisco_ios'\n",
    ") \"\"\"\n",
    "\n",
    "sw = nr.filter(\n",
    "    F(site__slug='plgn') & \n",
    "    F(device_role__slug='access_switch') &\n",
    "    F(device_type__slug='cisco_ios')\n",
    "    )\n",
    "\n",
    "#result = sw.run(task=napalm_get, getters=['get_interfaces_ip'])\n",
    "#result = sw.run(napalm_cli,commands=[\"sh ip int brief\"])\n",
    "#result = sw.run(netmiko_send_command, command_string=\"show ip int brief\")\n",
    "#print_result(result)\n"
   ]
  },
  {
   "cell_type": "code",
   "execution_count": 178,
   "metadata": {},
   "outputs": [],
   "source": [
    "interface = nb.dcim.interfaces.get(name='',device='sw-plgn-1')\n",
    "interface\n",
    "\"\"\" for i in interfaces:\n",
    "    print(i) \"\"\""
   ]
  },
  {
   "cell_type": "markdown",
   "metadata": {},
   "source": [
    "Указываем путь к папке с шаблонами"
   ]
  },
  {
   "cell_type": "code",
   "execution_count": 134,
   "metadata": {},
   "outputs": [],
   "source": [
    "templates_path = \"./templates/\""
   ]
  },
  {
   "cell_type": "code",
   "execution_count": null,
   "metadata": {},
   "outputs": [],
   "source": [
    "def config_switches(task:Task) -> Result:\n",
    "    # ------------------------------- Configure the interface -------------------------------------------------------------------------------------------------------------------- ----------------\n",
    "    # Получаем шаблон и отправляем в конфигурацию\n",
    "    ios_interface_template = task.run(\n",
    "        name='2 шаг. 1: Получаем шаблон конфигурации интерфейсов',  # mission name\n",
    "        task=template_file,   # The purpose of the task is to get the configuration template, fixed value\n",
    "        template='cisco_ios_interface.template',\n",
    "        path=templates_path\n",
    "    )\n",
    "\n",
    "    # Introducing in a specific configuration, configuring the device, pay attention to \".split ('\\ n')\" Convert configuration to a list\n",
    "    task.run(\n",
    "        task=netmiko_send_config,  # The purpose of the task is to complete the configuration, fixed value through Netmiko.\n",
    "        name='2 шаг. 2: Настройка интерфейсов',\n",
    "        config_commands=ios_interface_template.result.split('\\n'), # Convert template information to a list, then configure it via NetMiko\n",
    "        cmd_verify=True\n",
    "    )\n",
    "    \n",
    "    # --------------------------------- Configure administrator information ----------------------------\n",
    "    # Получаем шаблон и отправляем в конфигурацию\n",
    "    ios_user_template = task.run(\n",
    "        name='2-1: Получаем шаблон конфигурации пользователей',\n",
    "        task=template_file,\n",
    "        template='cisco_ios_user.template',\n",
    "        path=templates_path\n",
    "    )\n",
    "    task.run(\n",
    "        task=netmiko_send_config,\n",
    "        name='2-2: Настройка пользователей',\n",
    "        config_commands=ios_user_template.result.split('\\n'),\n",
    "        cmd_verify=True\n",
    "    ) \n",
    "    #-------------DNS-------------\n",
    "    ios_dns_template = task.run(\n",
    "        name='3-1: Получаем шаблон конфигурации dns',\n",
    "        task=template_file,\n",
    "        template='cisco_ios_dns.template',\n",
    "        path=templates_path\n",
    "    )\n",
    "    task.run(\n",
    "        task=netmiko_send_config,\n",
    "        name='3-2: Настройка dns',\n",
    "        config_commands=ios_dns_template.result.split('\\n'),\n",
    "        cmd_verify=True\n",
    "    ) \n",
    "    #-------------NTP-------------\n",
    "    ios_ntp_template = task.run(\n",
    "        name='4-1: Получаем шаблон конфигурации ntp',\n",
    "        task=template_file,\n",
    "        template='cisco_ios_ntp.template',\n",
    "        path=templates_path\n",
    "    )\n",
    "    task.run(\n",
    "        task=netmiko_send_config,\n",
    "        name='4-2: Настройка ntp',\n",
    "        config_commands=ios_ntp_template.result.split('\\n'),\n",
    "        cmd_verify=True\n",
    "    )\n",
    "   #-------------LOG-------------\n",
    "    ios_logging_template = task.run(\n",
    "        name='5-1: Получаем шаблон конфигурации logging',\n",
    "        task=template_file,\n",
    "        template='cisco_ios_logging.template',\n",
    "        path=templates_path\n",
    "    )\n",
    "    task.run(\n",
    "        task=netmiko_send_config,\n",
    "        name='5-2: Настройка syslog',\n",
    "        config_commands=ios_logging_template.result.split('\\n'),\n",
    "        cmd_verify=True\n",
    "    )\n",
    "    #-------------END-------------\n",
    "    return Result(\n",
    "        host=task.host,\n",
    "        result=f\"{task.host} доступен\"\n",
    "    )"
   ]
  },
  {
   "cell_type": "code",
   "execution_count": 135,
   "metadata": {},
   "outputs": [
    {
     "name": "stdout",
     "output_type": "stream",
     "text": [
      "\u001b[1m\u001b[36mНастройка коммутаторов**********************************************************\u001b[0m\n",
      "\u001b[0m\u001b[1m\u001b[34m* SW-PLGN-1 ** changed : False *************************************************\u001b[0m\n",
      "\u001b[0m\u001b[1m\u001b[31mvvvv Настройка коммутаторов ** changed : False vvvvvvvvvvvvvvvvvvvvvvvvvvvvvvvvv ERROR\u001b[0m\n",
      "\u001b[0mSubtask: 2 шаг. 1: Получаем шаблон конфигурации интерфейсов (failed)\n",
      "\u001b[0m\n",
      "\u001b[0m\u001b[1m\u001b[31m---- 2 шаг. 1: Получаем шаблон конфигурации интерфейсов ** changed : False ----- ERROR\u001b[0m\n",
      "\u001b[0mTraceback (most recent call last):\n",
      "  File \"/Library/Frameworks/Python.framework/Versions/3.8/lib/python3.8/site-packages/nornir/core/task.py\", line 99, in start\n",
      "    r = self.task(self, **self.params)\n",
      "  File \"/Library/Frameworks/Python.framework/Versions/3.8/lib/python3.8/site-packages/nornir_jinja2/plugins/tasks/template_file.py\", line 43, in template_file\n",
      "    text = t.render(host=task.host, **kwargs)\n",
      "  File \"/Library/Frameworks/Python.framework/Versions/3.8/lib/python3.8/site-packages/jinja2/environment.py\", line 1301, in render\n",
      "    self.environment.handle_exception()\n",
      "  File \"/Library/Frameworks/Python.framework/Versions/3.8/lib/python3.8/site-packages/jinja2/environment.py\", line 936, in handle_exception\n",
      "    raise rewrite_traceback_stack(source=source)\n",
      "  File \"templates/cisco_ios_interface.template\", line 1, in top-level template code\n",
      "    {% for i in host.interface_list %}\n",
      "jinja2.exceptions.UndefinedError: 'nornir.core.inventory.Host object' has no attribute 'interface_list'\n",
      "\u001b[0m\n",
      "\u001b[0m\u001b[1m\u001b[31m^^^^ END Настройка коммутаторов ^^^^^^^^^^^^^^^^^^^^^^^^^^^^^^^^^^^^^^^^^^^^^^^^\u001b[0m\n",
      "\u001b[0m\u001b[1m\u001b[34m* SW-PLGN-2 ** changed : False *************************************************\u001b[0m\n",
      "\u001b[0m\u001b[1m\u001b[31mvvvv Настройка коммутаторов ** changed : False vvvvvvvvvvvvvvvvvvvvvvvvvvvvvvvvv ERROR\u001b[0m\n",
      "\u001b[0mSubtask: 2 шаг. 1: Получаем шаблон конфигурации интерфейсов (failed)\n",
      "\u001b[0m\n",
      "\u001b[0m\u001b[1m\u001b[31m---- 2 шаг. 1: Получаем шаблон конфигурации интерфейсов ** changed : False ----- ERROR\u001b[0m\n",
      "\u001b[0mTraceback (most recent call last):\n",
      "  File \"/Library/Frameworks/Python.framework/Versions/3.8/lib/python3.8/site-packages/nornir/core/task.py\", line 99, in start\n",
      "    r = self.task(self, **self.params)\n",
      "  File \"/Library/Frameworks/Python.framework/Versions/3.8/lib/python3.8/site-packages/nornir_jinja2/plugins/tasks/template_file.py\", line 43, in template_file\n",
      "    text = t.render(host=task.host, **kwargs)\n",
      "  File \"/Library/Frameworks/Python.framework/Versions/3.8/lib/python3.8/site-packages/jinja2/environment.py\", line 1301, in render\n",
      "    self.environment.handle_exception()\n",
      "  File \"/Library/Frameworks/Python.framework/Versions/3.8/lib/python3.8/site-packages/jinja2/environment.py\", line 936, in handle_exception\n",
      "    raise rewrite_traceback_stack(source=source)\n",
      "  File \"templates/cisco_ios_interface.template\", line 1, in top-level template code\n",
      "    {% for i in host.interface_list %}\n",
      "jinja2.exceptions.UndefinedError: 'nornir.core.inventory.Host object' has no attribute 'interface_list'\n",
      "\u001b[0m\n",
      "\u001b[0m\u001b[1m\u001b[31m^^^^ END Настройка коммутаторов ^^^^^^^^^^^^^^^^^^^^^^^^^^^^^^^^^^^^^^^^^^^^^^^^\u001b[0m\n",
      "\u001b[0m"
     ]
    }
   ],
   "source": [
    "run_result = sw.run(task=config_switches,name='Настройка коммутаторов')\n",
    "print_result(run_result)"
   ]
  }
 ],
 "metadata": {
  "kernelspec": {
   "display_name": "Python 3.8.4 64-bit",
   "language": "python",
   "name": "python3"
  },
  "language_info": {
   "codemirror_mode": {
    "name": "ipython",
    "version": 3
   },
   "file_extension": ".py",
   "mimetype": "text/x-python",
   "name": "python",
   "nbconvert_exporter": "python",
   "pygments_lexer": "ipython3",
   "version": "3.8.4"
  },
  "orig_nbformat": 4,
  "vscode": {
   "interpreter": {
    "hash": "aee8b7b246df8f9039afb4144a1f6fd8d2ca17a180786b69acc140d282b71a49"
   }
  }
 },
 "nbformat": 4,
 "nbformat_minor": 2
}
