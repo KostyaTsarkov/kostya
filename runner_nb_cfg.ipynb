{
 "cells": [
  {
   "attachments": {},
   "cell_type": "markdown",
   "metadata": {},
   "source": [
    "Подключаем библиотеки"
   ]
  },
  {
   "cell_type": "code",
   "execution_count": 3,
   "metadata": {},
   "outputs": [],
   "source": [
    "from nornir_netbox.plugins.inventory.netbox import NetBoxInventory2\n",
    "from nornir import InitNornir\n",
    "from nornir_netmiko.tasks import netmiko_send_command, netmiko_send_config\n",
    "from nornir_jinja2.plugins.tasks import template_file\n",
    "from nornir_utils.plugins.functions import print_result\n",
    "from nornir.core.task import Task, Result\n",
    "import pynetbox\n",
    "from nornir_napalm.plugins.tasks import napalm_get\n",
    "from nornir_napalm.plugins.tasks import napalm_cli\n",
    "from nornir.core.filter import F\n",
    "#from nornir.core.inventory import Host\n",
    "import json\n",
    "import pprint\n",
    "from ipaddress import IPv4Address\n",
    "from ipaddress import IPv4Network\n",
    "from jinja2 import Environment, FileSystemLoader"
   ]
  },
  {
   "attachments": {},
   "cell_type": "markdown",
   "metadata": {},
   "source": [
    "Инициализируем nornir"
   ]
  },
  {
   "cell_type": "code",
   "execution_count": 4,
   "metadata": {},
   "outputs": [],
   "source": [
    "nr = InitNornir(\n",
    "    inventory={\n",
    "        \"plugin\": \"NetBoxInventory2\",\n",
    "        \"options\": {\n",
    "            \"nb_url\": \"http://10.30.1.101:8000\",\n",
    "            \"nb_token\": \"dc5b766afda60e647a9fcc384c736a9689da8618\",\n",
    "            \"group_file\": \"./inventory/groups.yml\",\n",
    "            \"defaults_file\": \"./inventory/defaults.yml\",\n",
    "        },\n",
    "    },\n",
    ")"
   ]
  },
  {
   "cell_type": "markdown",
   "metadata": {},
   "source": [
    "Инициализируем pynetbox"
   ]
  },
  {
   "cell_type": "code",
   "execution_count": 5,
   "metadata": {},
   "outputs": [],
   "source": [
    "nb_url = nr.config.inventory.options['nb_url']\n",
    "nb_token = nr.config.inventory.options['nb_token']\n",
    "nb = pynetbox.api(\n",
    "    nb_url,\n",
    "    token=nb_token\n",
    ")"
   ]
  },
  {
   "cell_type": "code",
   "execution_count": 6,
   "metadata": {},
   "outputs": [],
   "source": [
    "#list(nb.dcim.devices.all())"
   ]
  },
  {
   "cell_type": "markdown",
   "metadata": {},
   "source": [
    "GET ALL DEVICES PER SITE"
   ]
  },
  {
   "cell_type": "code",
   "execution_count": 7,
   "metadata": {},
   "outputs": [],
   "source": [
    "nb_site = 'plgn'\n",
    "#nb_role = 'plgn'\n",
    "get_all_devices = list(nb.dcim.devices.filter(site = nb_site))\n",
    "#get_all_devices"
   ]
  },
  {
   "cell_type": "markdown",
   "metadata": {},
   "source": [
    "GET ALL IP PREFIXES PER SITE"
   ]
  },
  {
   "cell_type": "code",
   "execution_count": 8,
   "metadata": {},
   "outputs": [
    {
     "name": "stdout",
     "output_type": "stream",
     "text": [
      "Servers pool\u001b[0m\n",
      "\u001b[0m10.30.1.0/24\u001b[0m\n",
      "\u001b[0mServers test pool\u001b[0m\n",
      "\u001b[0m10.30.3.0/24\u001b[0m\n",
      "\u001b[0m"
     ]
    }
   ],
   "source": [
    "# List all IPs prefixes from all sites\n",
    "nb_site = 'plgn'\n",
    "nb_role = 'plgn'\n",
    "IPv4 = 4\n",
    "get_all_ip_prefixes = list(nb.ipam.prefixes.filter(site = nb_site, role = nb_role))\n",
    "for ip_prefix in get_all_ip_prefixes:\n",
    "    if ip_prefix.family.value == IPv4:\n",
    "        print(ip_prefix.description)\n",
    "        print(ip_prefix)"
   ]
  },
  {
   "cell_type": "markdown",
   "metadata": {},
   "source": [
    "GET ALL IP ADDRESSES PER DEVICE"
   ]
  },
  {
   "cell_type": "code",
   "execution_count": 9,
   "metadata": {},
   "outputs": [],
   "source": [
    "# List all IPs from all devices\n",
    "get_all_ip_addresses = list(nb.ipam.ip_addresses.filter(device=get_all_devices))\n",
    "#get_all_ip_addresses"
   ]
  },
  {
   "cell_type": "markdown",
   "metadata": {},
   "source": [
    "GET ALL INTERFACES PER DEVICE"
   ]
  },
  {
   "cell_type": "code",
   "execution_count": 10,
   "metadata": {},
   "outputs": [],
   "source": [
    "# List all interfaces from all devices\n",
    "get_all_interfaces = list(nb.dcim.interfaces.filter(device=get_all_devices))\n",
    "#get_all_interfaces"
   ]
  },
  {
   "cell_type": "markdown",
   "metadata": {},
   "source": [
    "CREATE TEMPLATE"
   ]
  },
  {
   "cell_type": "code",
   "execution_count": 11,
   "metadata": {},
   "outputs": [
    {
     "name": "stdout",
     "output_type": "stream",
     "text": [
      "host SRV-PEV-5 {\n",
      "  hardware ethernet 2A:2F:0A:9F:A8:B5;\n",
      "  fixed-address 10.30.1.248;\n",
      "}\u001b[0m\n",
      "\u001b[0m"
     ]
    }
   ],
   "source": [
    "\n",
    "templates_path = \"./templates/\"\n",
    "environment = Environment(loader=FileSystemLoader(templates_path))\n",
    "template = environment.get_template(\"dhcpd_static.template\")\n",
    "for device_ip in get_all_ip_addresses:\n",
    "        for ip_prefix in get_all_ip_prefixes:\n",
    "                if IPv4Address(device_ip.address.split('/')[0]) in IPv4Network(ip_prefix.prefix):\n",
    "                        for device_interface in get_all_interfaces:\n",
    "                                if device_ip.assigned_object.device.name == device_interface.device.name and device_interface.mac_address != None:\n",
    "                                        content = template.render(\n",
    "                                        device_name = device_interface.device.name,\n",
    "                                        mac_address = device_interface.mac_address,\n",
    "                                        ip_address = device_ip.address.split('/')[0]\n",
    "                                        )\n",
    "                                        print(content)\n"
   ]
  },
  {
   "cell_type": "code",
   "execution_count": null,
   "metadata": {},
   "outputs": [],
   "source": [
    "device_type = nb.dcim.device_types.get(slug='cisco_ios').id\n",
    "device_type\n",
    "\n",
    "\"\"\" devices = nb.dcim.devices.filter(\n",
    "    role='access_switch',\n",
    "    site = 'plgn',\n",
    "    device_type = 'cisco_ios'\n",
    ") \"\"\"\n",
    "\n",
    "sw = nr.filter(\n",
    "    F(site__slug='plgn') & \n",
    "    F(device_role__slug='access_switch') &\n",
    "    F(device_type__slug='cisco_ios')\n",
    "    )\n",
    "\n",
    "result = sw.run(task=napalm_get, getters=['get_interfaces_ip'])\n",
    "#result = sw.run(napalm_cli,commands=[\"sh ip int brief\"])\n",
    "#result = sw.run(netmiko_send_command, command_string=\"show ip int brief\")\n",
    "#print_result(result)\n",
    "#print(json.dumps(result['SW-PLGN-1'].result, indent=2))\n",
    "pprint.pprint(result['SW-PLGN-2'].result)\n",
    "#print_result(result)"
   ]
  },
  {
   "cell_type": "code",
   "execution_count": null,
   "metadata": {},
   "outputs": [],
   "source": [
    "interface = nb.dcim.interfaces.get(name='',device='sw-plgn-1')\n",
    "interface\n",
    "\"\"\" for i in interfaces:\n",
    "    print(i) \"\"\""
   ]
  },
  {
   "cell_type": "markdown",
   "metadata": {},
   "source": [
    "Указываем путь к папке с шаблонами"
   ]
  },
  {
   "cell_type": "code",
   "execution_count": null,
   "metadata": {},
   "outputs": [],
   "source": [
    "templates_path = \"./templates/\""
   ]
  },
  {
   "cell_type": "code",
   "execution_count": null,
   "metadata": {},
   "outputs": [],
   "source": [
    "def config_switches(task:Task) -> Result:\n",
    "    # ------------------------------- Configure the interface -------------------------------------------------------------------------------------------------------------------- ----------------\n",
    "    # Получаем шаблон и отправляем в конфигурацию\n",
    "    ios_interface_template = task.run(\n",
    "        name='2 шаг. 1: Получаем шаблон конфигурации интерфейсов',  # mission name\n",
    "        task=template_file,   # The purpose of the task is to get the configuration template, fixed value\n",
    "        template='cisco_ios_interface.template',\n",
    "        path=templates_path\n",
    "    )\n",
    "\n",
    "    # Introducing in a specific configuration, configuring the device, pay attention to \".split ('\\ n')\" Convert configuration to a list\n",
    "    task.run(\n",
    "        task=netmiko_send_config,  # The purpose of the task is to complete the configuration, fixed value through Netmiko.\n",
    "        name='2 шаг. 2: Настройка интерфейсов',\n",
    "        config_commands=ios_interface_template.result.split('\\n'), # Convert template information to a list, then configure it via NetMiko\n",
    "        cmd_verify=True\n",
    "    )\n",
    "    \n",
    "    # --------------------------------- Configure administrator information ----------------------------\n",
    "    # Получаем шаблон и отправляем в конфигурацию\n",
    "    ios_user_template = task.run(\n",
    "        name='2-1: Получаем шаблон конфигурации пользователей',\n",
    "        task=template_file,\n",
    "        template='cisco_ios_user.template',\n",
    "        path=templates_path\n",
    "    )\n",
    "    task.run(\n",
    "        task=netmiko_send_config,\n",
    "        name='2-2: Настройка пользователей',\n",
    "        config_commands=ios_user_template.result.split('\\n'),\n",
    "        cmd_verify=True\n",
    "    ) \n",
    "    #-------------DNS-------------\n",
    "    ios_dns_template = task.run(\n",
    "        name='3-1: Получаем шаблон конфигурации dns',\n",
    "        task=template_file,\n",
    "        template='cisco_ios_dns.template',\n",
    "        path=templates_path\n",
    "    )\n",
    "    task.run(\n",
    "        task=netmiko_send_config,\n",
    "        name='3-2: Настройка dns',\n",
    "        config_commands=ios_dns_template.result.split('\\n'),\n",
    "        cmd_verify=True\n",
    "    ) \n",
    "    #-------------NTP-------------\n",
    "    ios_ntp_template = task.run(\n",
    "        name='4-1: Получаем шаблон конфигурации ntp',\n",
    "        task=template_file,\n",
    "        template='cisco_ios_ntp.template',\n",
    "        path=templates_path\n",
    "    )\n",
    "    task.run(\n",
    "        task=netmiko_send_config,\n",
    "        name='4-2: Настройка ntp',\n",
    "        config_commands=ios_ntp_template.result.split('\\n'),\n",
    "        cmd_verify=True\n",
    "    )\n",
    "   #-------------LOG-------------\n",
    "    ios_logging_template = task.run(\n",
    "        name='5-1: Получаем шаблон конфигурации logging',\n",
    "        task=template_file,\n",
    "        template='cisco_ios_logging.template',\n",
    "        path=templates_path\n",
    "    )\n",
    "    task.run(\n",
    "        task=netmiko_send_config,\n",
    "        name='5-2: Настройка syslog',\n",
    "        config_commands=ios_logging_template.result.split('\\n'),\n",
    "        cmd_verify=True\n",
    "    )\n",
    "    #-------------END-------------\n",
    "    return Result(\n",
    "        host=task.host,\n",
    "        result=f\"{task.host} доступен\"\n",
    "    )"
   ]
  },
  {
   "cell_type": "code",
   "execution_count": null,
   "metadata": {},
   "outputs": [],
   "source": [
    "run_result = sw.run(task=config_switches,name='Настройка коммутаторов')\n",
    "print_result(run_result)"
   ]
  }
 ],
 "metadata": {
  "kernelspec": {
   "display_name": "Python 3",
   "language": "python",
   "name": "python3"
  },
  "language_info": {
   "codemirror_mode": {
    "name": "ipython",
    "version": 3
   },
   "file_extension": ".py",
   "mimetype": "text/x-python",
   "name": "python",
   "nbconvert_exporter": "python",
   "pygments_lexer": "ipython3",
   "version": "3.7.8"
  },
  "orig_nbformat": 4,
  "vscode": {
   "interpreter": {
    "hash": "0a54084e6b208ee8d1ce3989ffc20924477a5f55f5a43e22e699a6741623861e"
   }
  }
 },
 "nbformat": 4,
 "nbformat_minor": 2
}
