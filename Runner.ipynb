{
 "cells": [
  {
   "cell_type": "code",
   "execution_count": null,
   "metadata": {},
   "outputs": [],
   "source": [
    "from nornir import InitNornir\n",
    "from nornir_netmiko.tasks import netmiko_send_command, netmiko_send_config\n",
    "from nornir_jinja2.plugins.tasks import template_file\n",
    "from nornir_utils.plugins.functions import print_result\n",
    "from nornir.core.task import Task, Result"
   ]
  },
  {
   "cell_type": "code",
   "execution_count": null,
   "metadata": {},
   "outputs": [],
   "source": [
    "# Nornir loading profile\n",
    "nr = InitNornir(config_file='./config.yml')\n",
    "nr = InitNornir(\n",
    "    runner={\n",
    "        \"plugin\": \"threaded\",\n",
    "        \"options\": {\n",
    "            \"num_workers\": 10,\n",
    "        },\n",
    "    },\n",
    "    inventory={\n",
    "        \"plugin\": \"SimpleInventory\",\n",
    "        \"options\": {\n",
    "            \"host_file\": \"./inventory/hosts.yml\",\n",
    "            \"group_file\": \"./inventory/groups.yml\",\n",
    "            \"defaults_file\": \"./inventory/defaults.yml\"\n",
    "        },\n",
    "    },\n",
    ")\n",
    "# Template catalog\n",
    "template_path = './templates/'"
   ]
  },
  {
   "cell_type": "code",
   "execution_count": null,
   "metadata": {},
   "outputs": [],
   "source": [
    "# By filtering \n",
    "sw = nr.filter(type='l2',)"
   ]
  },
  {
   "cell_type": "code",
   "execution_count": null,
   "metadata": {},
   "outputs": [],
   "source": [
    "# Username, password\n",
    "for host in sw.inventory.hosts.keys():\n",
    "    nr.inventory.hosts[host].username = 'sa'\n",
    "    nr.inventory.hosts[host].password = 'Qwerty11'\n",
    "    nr.inventory.hosts[host].connection_options['netmiko'].extras['secret'] = 'Qwerty11'"
   ]
  },
  {
   "cell_type": "code",
   "execution_count": null,
   "metadata": {},
   "outputs": [],
   "source": [
    "def config_sw(task:Task) -> Result:\n",
    "    ios_interface_template = task.run(\n",
    "        name='Get interface template',\n",
    "        task=template_file,\n",
    "        template='cisco_ios_interface.template',\n",
    "        path=template_path\n",
    "    )\n",
    "    task.run(\n",
    "        netmiko_send_config,\n",
    "        name='Push interface config',\n",
    "        config_commands=ios_interface_template.result.split('\\n'),\n",
    "        cmd_verify=True\n",
    "    )\n",
    "\n",
    "    return Result(\n",
    "        host=task.host,\n",
    "        result=f\"{task.host} is running\"\n",
    "    )"
   ]
  },
  {
   "cell_type": "code",
   "execution_count": null,
   "metadata": {},
   "outputs": [],
   "source": [
    "run_result = sw.run(task=config_sw,name='Configuration Switches')\n",
    "print_result(run_result)"
   ]
  },
  {
   "cell_type": "code",
   "execution_count": null,
   "metadata": {},
   "outputs": [],
   "source": [
    "dir(netmiko_send_command)"
   ]
  }
 ],
 "metadata": {
  "kernelspec": {
   "display_name": "Python 3.10.6 64-bit",
   "language": "python",
   "name": "python3"
  },
  "language_info": {
   "codemirror_mode": {
    "name": "ipython",
    "version": 3
   },
   "file_extension": ".py",
   "mimetype": "text/x-python",
   "name": "python",
   "nbconvert_exporter": "python",
   "pygments_lexer": "ipython3",
   "version": "3.10.6"
  },
  "orig_nbformat": 4,
  "vscode": {
   "interpreter": {
    "hash": "aee8b7b246df8f9039afb4144a1f6fd8d2ca17a180786b69acc140d282b71a49"
   }
  }
 },
 "nbformat": 4,
 "nbformat_minor": 2
}
