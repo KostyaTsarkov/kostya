{
 "cells": [
  {
   "cell_type": "code",
   "execution_count": 1,
   "metadata": {},
   "outputs": [],
   "source": [
    "from flask import Flask, request\n",
    "#import pynetbox"
   ]
  },
  {
   "cell_type": "code",
   "execution_count": 2,
   "metadata": {},
   "outputs": [
    {
     "name": "stdout",
     "output_type": "stream",
     "text": [
      " * Serving Flask app '__main__'\n",
      " * Debug mode: off\n"
     ]
    },
    {
     "name": "stderr",
     "output_type": "stream",
     "text": [
      "WARNING: This is a development server. Do not use it in a production deployment. Use a production WSGI server instead.\n",
      " * Running on all addresses (0.0.0.0)\n",
      " * Running on http://127.0.0.1:8080\n",
      " * Running on http://10.68.5.5:8080\n",
      "Press CTRL+C to quit\n",
      "10.30.1.101 - - [11/Mar/2023 10:32:27] \"POST /api/fixed_ip HTTP/1.1\" 200 -\n"
     ]
    },
    {
     "name": "stdout",
     "output_type": "stream",
     "text": [
      "61\n",
      "10.30.1.101/24\n",
      " * Serving Flask app '__main__'\n",
      " * Debug mode: off\n"
     ]
    },
    {
     "name": "stderr",
     "output_type": "stream",
     "text": [
      "WARNING: This is a development server. Do not use it in a production deployment. Use a production WSGI server instead.\n",
      " * Running on http://127.0.0.1:5000\n",
      "Press CTRL+C to quit\n"
     ]
    }
   ],
   "source": [
    "#Create a Flask instance\n",
    "netbox_ipam = Flask(__name__)\n",
    "\n",
    "@netbox_ipam.route('/api/fixed_ip', methods=['POST'])\n",
    "def mng_ip_address():\n",
    "    ip_address = request.json [\"data\"][\"address\"]\n",
    "    address_family = request.json[\"data\"][\"family\"][\"value\"]\n",
    "    if  assigned_object_id := request.json[\"data\"][\"assigned_object_id\"]:\n",
    "        print(assigned_object_id)\n",
    "    print(ip_address)\n",
    "    return \"Webhook received!\"\n",
    "\n",
    "netbox_ipam.run(host='0.0.0.0', port=8080)\n",
    "if __name__ == \"__main__\": netbox_ipam.run()"
   ]
  }
 ],
 "metadata": {
  "kernelspec": {
   "display_name": "Python 3.10.6 64-bit",
   "language": "python",
   "name": "python3"
  },
  "language_info": {
   "codemirror_mode": {
    "name": "ipython",
    "version": 3
   },
   "file_extension": ".py",
   "mimetype": "text/x-python",
   "name": "python",
   "nbconvert_exporter": "python",
   "pygments_lexer": "ipython3",
   "version": "3.10.6"
  },
  "orig_nbformat": 4,
  "vscode": {
   "interpreter": {
    "hash": "aee8b7b246df8f9039afb4144a1f6fd8d2ca17a180786b69acc140d282b71a49"
   }
  }
 },
 "nbformat": 4,
 "nbformat_minor": 2
}
