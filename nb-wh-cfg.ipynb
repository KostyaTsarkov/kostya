{
 "cells": [
  {
   "cell_type": "code",
   "execution_count": 54,
   "metadata": {},
   "outputs": [],
   "source": [
    "from flask import Flask, request\n",
    "from nornir import InitNornir\n",
    "import pynetbox\n",
    "#from nornir.core.inventory import Host\n",
    "from ipaddress import IPv4Address\n",
    "from ipaddress import IPv4Network\n",
    "import ipaddress\n",
    "from jinja2 import Environment, FileSystemLoader"
   ]
  },
  {
   "cell_type": "code",
   "execution_count": 32,
   "metadata": {},
   "outputs": [],
   "source": [
    "nr = InitNornir(\n",
    "    inventory={\n",
    "        \"plugin\": \"NetBoxInventory2\",\n",
    "        \"options\": {\n",
    "            \"nb_url\": \"http://10.30.1.101:8000\",\n",
    "            \"nb_token\": \"dc5b766afda60e647a9fcc384c736a9689da8618\",\n",
    "            \"group_file\": \"./inventory/groups.yml\",\n",
    "            \"defaults_file\": \"./inventory/defaults.yml\",\n",
    "        },\n",
    "    },\n",
    ")"
   ]
  },
  {
   "cell_type": "code",
   "execution_count": 33,
   "metadata": {},
   "outputs": [],
   "source": [
    "nb_url = nr.config.inventory.options['nb_url']\n",
    "nb_token = nr.config.inventory.options['nb_token']\n",
    "nb = pynetbox.api(\n",
    "    nb_url,\n",
    "    token=nb_token\n",
    ")"
   ]
  },
  {
   "cell_type": "code",
   "execution_count": 34,
   "metadata": {},
   "outputs": [],
   "source": [
    "nb_site = 'plgn'\n",
    "get_all_devices = list(nb.dcim.devices.filter(site = nb_site))\n",
    "#get_all_devices"
   ]
  },
  {
   "cell_type": "code",
   "execution_count": 35,
   "metadata": {},
   "outputs": [
    {
     "name": "stdout",
     "output_type": "stream",
     "text": [
      "Servers pool\n",
      "10.30.1.0/24\n",
      "Servers test pool\n",
      "10.30.3.0/24\n"
     ]
    }
   ],
   "source": [
    "# List all IPs prefixes from all sites\n",
    "nb_site = 'plgn'\n",
    "nb_role = 'plgn'\n",
    "IPv4 = 4\n",
    "get_all_ip_prefixes = list(nb.ipam.prefixes.filter(site = nb_site, role = nb_role))\n",
    "for ip_prefix in get_all_ip_prefixes:\n",
    "    if ip_prefix.family.value == IPv4:\n",
    "        print(ip_prefix.description)\n",
    "        print(ip_prefix)"
   ]
  },
  {
   "cell_type": "code",
   "execution_count": 36,
   "metadata": {},
   "outputs": [],
   "source": [
    "# List all IPs from all devices\n",
    "get_all_ip_addresses = list(nb.ipam.ip_addresses.filter(device=get_all_devices))\n",
    "#get_all_ip_addresses"
   ]
  },
  {
   "cell_type": "code",
   "execution_count": 37,
   "metadata": {},
   "outputs": [],
   "source": [
    "# List all interfaces from all devices\n",
    "get_all_interfaces = list(nb.dcim.interfaces.filter(device=get_all_devices))\n",
    "#get_all_interfaces"
   ]
  },
  {
   "cell_type": "code",
   "execution_count": 38,
   "metadata": {},
   "outputs": [
    {
     "name": "stdout",
     "output_type": "stream",
     "text": [
      "host SRV-PEV-5 {\n",
      "  hardware ethernet 2A:2F:0A:9F:A8:B5;\n",
      "  fixed-address 10.30.1.248;\n",
      "}\n"
     ]
    }
   ],
   "source": [
    "\n",
    "templates_path = \"./templates/\"\n",
    "environment = Environment(loader=FileSystemLoader(templates_path))\n",
    "template = environment.get_template(\"dhcpd_static.template\")\n",
    "for device_ip in get_all_ip_addresses:\n",
    "        for ip_prefix in get_all_ip_prefixes:\n",
    "                if IPv4Address(device_ip.address.split('/')[0]) in IPv4Network(ip_prefix.prefix):\n",
    "                        for device_interface in get_all_interfaces:\n",
    "                                if device_ip.assigned_object.device.name == device_interface.device.name and device_interface.mac_address != None:\n",
    "                                        content = template.render(\n",
    "                                        device_name = device_interface.device.name,\n",
    "                                        mac_address = device_interface.mac_address,\n",
    "                                        ip_address = device_ip.address.split('/')[0]\n",
    "                                        )\n",
    "                                        print(content)"
   ]
  },
  {
   "cell_type": "code",
   "execution_count": 52,
   "metadata": {},
   "outputs": [
    {
     "name": "stdout",
     "output_type": "stream",
     "text": [
      " * Serving Flask app '__main__'\n",
      " * Debug mode: off\n"
     ]
    },
    {
     "name": "stderr",
     "output_type": "stream",
     "text": [
      "WARNING: This is a development server. Do not use it in a production deployment. Use a production WSGI server instead.\n",
      " * Running on all addresses (0.0.0.0)\n",
      " * Running on http://127.0.0.1:8080\n",
      " * Running on http://10.68.5.5:8080\n",
      "Press CTRL+C to quit\n",
      "10.30.1.101 - - [11/Mar/2023 12:06:23] \"POST /api/fixed_ip HTTP/1.1\" 200 -\n"
     ]
    },
    {
     "name": "stdout",
     "output_type": "stream",
     "text": [
      "host SRV-PEV-5 {\n",
      "  hardware ethernet 2A:2F:0A:9F:A8:B5;\n",
      "  fixed-address 10.30.1.248;\n",
      "}\n",
      "{'event': 'updated', 'timestamp': '2023-03-11 07:06:23.021729+00:00', 'model': 'ipaddress', 'username': 'admin', 'request_id': '4fe21162-f018-4a32-a21e-559700b6208e', 'data': {'id': 14, 'url': '/api/ipam/ip-addresses/14/', 'display': '10.30.1.248/24', 'family': {'value': 4, 'label': 'IPv4'}, 'address': '10.30.1.248/24', 'vrf': None, 'tenant': {'id': 5, 'url': '/api/tenancy/tenants/5/', 'display': 'IT', 'name': 'IT', 'slug': 'it'}, 'status': {'value': 'dhcp', 'label': 'DHCP'}, 'role': None, 'assigned_object_type': 'dcim.interface', 'assigned_object_id': 67, 'assigned_object': {'id': 67, 'url': '/api/dcim/interfaces/67/', 'display': 'Gig-E 1', 'device': {'id': 10, 'url': '/api/dcim/devices/10/', 'display': 'SRV-PEV-5', 'name': 'SRV-PEV-5'}, 'name': 'Gig-E 1', 'cable': 16, '_occupied': True}, 'nat_inside': None, 'nat_outside': [], 'dns_name': 'srv-pev-5.ventprom.com', 'description': '', 'comments': '', 'tags': [], 'custom_fields': {}, 'created': '2023-01-28T06:26:50.562869Z', 'last_updated': '2023-03-11T07:06:22.921916Z'}, 'snapshots': {'prechange': {'created': '2023-01-28T06:26:50.562Z', 'last_updated': '2023-01-28T06:47:10.724Z', 'description': '', 'comments': '', 'address': '10.30.1.248/24', 'vrf': None, 'tenant': 5, 'status': 'active', 'role': '', 'assigned_object_type': 14, 'assigned_object_id': 67, 'nat_inside': None, 'dns_name': 'srv-pev-5.ventprom.com', 'custom_fields': {}, 'tags': []}, 'postchange': {'created': '2023-01-28T06:26:50.562Z', 'last_updated': '2023-03-11T07:06:22.921Z', 'description': '', 'comments': '', 'address': '10.30.1.248/24', 'vrf': None, 'tenant': 5, 'status': 'dhcp', 'role': '', 'assigned_object_type': 14, 'assigned_object_id': 67, 'nat_inside': None, 'dns_name': 'srv-pev-5.ventprom.com', 'custom_fields': {}, 'tags': []}}}\n",
      " * Serving Flask app '__main__'\n",
      " * Debug mode: off\n"
     ]
    },
    {
     "name": "stderr",
     "output_type": "stream",
     "text": [
      "WARNING: This is a development server. Do not use it in a production deployment. Use a production WSGI server instead.\n",
      " * Running on http://127.0.0.1:5000\n",
      "Press CTRL+C to quit\n"
     ]
    }
   ],
   "source": [
    "# Create a Flask instance\n",
    "app = Flask(__name__)\n",
    "\n",
    "@app.route('/api/fixed_ip', methods=['POST'])\n",
    "def webhook():\n",
    "    get_device_ips = [request.json[\"data\"][\"address\"]]\n",
    "    get_device = request.json[\"data\"][\"assigned_object\"][\"device\"][\"name\"]\n",
    "    #get_interface = request.json[\"data\"][\"assigned_object\"][\"name\"]\n",
    "    get_address_family = request.json[\"data\"][\"family\"][\"value\"]\n",
    "    #get_assigned_object_id = request.json[\"data\"][\"assigned_object_id\"]\n",
    "    get_device_interface = nb.dcim.interfaces.get(request.json[\"data\"][\"assigned_object_id\"])\n",
    "    #print(get_device_ips,device)\n",
    "\n",
    "    templates_path = \"./templates/\"\n",
    "    environment = Environment(loader=FileSystemLoader(templates_path))\n",
    "    template = environment.get_template(\"dhcpd_static.template\")\n",
    "    #device_interface = list(nb.dcim.interfaces.filter(device=get_device, name=get_interface))\n",
    "\n",
    "    if get_device_interface.mgmt_only:\n",
    "            print(\"\\tManagement interface, no changes will be performed...\")\n",
    "    else:\n",
    "        for device_ip in get_device_ips:\n",
    "            #print(ipaddress.ip_interface(device_ip).ip)\n",
    "            content = template.render(\n",
    "            device_name = get_device,\n",
    "            mac_address = get_device_interface.mac_address,\n",
    "            ip_address = ipaddress.ip_interface(device_ip).ip\n",
    "            )\n",
    "            print(content)\n",
    "\n",
    "    print(request.json)\n",
    "    \n",
    "    return \"Webhook received!\"\n",
    "\n",
    "app.run(host='0.0.0.0', port=8080)\n",
    "if __name__ == \"__main__\": app.run()\n"
   ]
  },
  {
   "cell_type": "code",
   "execution_count": 50,
   "metadata": {},
   "outputs": [
    {
     "name": "stdout",
     "output_type": "stream",
     "text": [
      "iDRAC\n",
      "host SRV-PEV-1 {\n",
      "  hardware ethernet None;\n",
      "  fixed-address 10.30.1.101;\n",
      "}\n"
     ]
    }
   ],
   "source": [
    "ip = ['10.30.1.101/24']\n",
    "interface = 'iDRAC'\n",
    "device = 'SRV-PEV-1'\n",
    "templates_path = \"./templates/\"\n",
    "environment = Environment(loader=FileSystemLoader(templates_path))\n",
    "template = environment.get_template(\"dhcpd_static.template\")\n",
    "device_interface = list(nb.dcim.interfaces.filter(device=device, name=interface))\n",
    "\n",
    "assigned_interface_details = nb.dcim.interfaces.get('61')\n",
    "print(assigned_interface_details)\n",
    "for device_ip in ip:\n",
    "    content = template.render(\n",
    "    device_name = device,\n",
    "    mac_address = device_interface[0].mac_address,\n",
    "    ip_address = ipaddress.ip_interface(device_ip).ip\n",
    "    )\n",
    "    print(content)"
   ]
  }
 ],
 "metadata": {
  "kernelspec": {
   "display_name": "Python 3.10.6 64-bit",
   "language": "python",
   "name": "python3"
  },
  "language_info": {
   "codemirror_mode": {
    "name": "ipython",
    "version": 3
   },
   "file_extension": ".py",
   "mimetype": "text/x-python",
   "name": "python",
   "nbconvert_exporter": "python",
   "pygments_lexer": "ipython3",
   "version": "3.10.6"
  },
  "orig_nbformat": 4,
  "vscode": {
   "interpreter": {
    "hash": "aee8b7b246df8f9039afb4144a1f6fd8d2ca17a180786b69acc140d282b71a49"
   }
  }
 },
 "nbformat": 4,
 "nbformat_minor": 2
}
