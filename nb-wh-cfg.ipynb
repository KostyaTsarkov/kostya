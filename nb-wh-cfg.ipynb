{
 "cells": [
  {
   "cell_type": "code",
   "execution_count": 82,
   "metadata": {},
   "outputs": [],
   "source": [
    "from flask import Flask, request\n",
    "from nornir import InitNornir\n",
    "import pynetbox\n",
    "#from nornir.core.inventory import Host\n",
    "from ipaddress import IPv4Address\n",
    "from ipaddress import IPv4Network\n",
    "import ipaddress\n",
    "from jinja2 import Environment, FileSystemLoader"
   ]
  },
  {
   "cell_type": "code",
   "execution_count": 60,
   "metadata": {},
   "outputs": [],
   "source": [
    "nr = InitNornir(\n",
    "    inventory={\n",
    "        \"plugin\": \"NetBoxInventory2\",\n",
    "        \"options\": {\n",
    "            \"nb_url\": \"http://10.30.1.101:8000\",\n",
    "            \"nb_token\": \"dc5b766afda60e647a9fcc384c736a9689da8618\",\n",
    "            \"group_file\": \"./inventory/groups.yml\",\n",
    "            \"defaults_file\": \"./inventory/defaults.yml\",\n",
    "        },\n",
    "    },\n",
    ")"
   ]
  },
  {
   "cell_type": "code",
   "execution_count": 61,
   "metadata": {},
   "outputs": [],
   "source": [
    "nb_url = nr.config.inventory.options['nb_url']\n",
    "nb_token = nr.config.inventory.options['nb_token']\n",
    "nb = pynetbox.api(\n",
    "    nb_url,\n",
    "    token=nb_token\n",
    ")"
   ]
  },
  {
   "cell_type": "code",
   "execution_count": 62,
   "metadata": {},
   "outputs": [],
   "source": [
    "nb_site = 'plgn'\n",
    "get_all_devices = list(nb.dcim.devices.filter(site = nb_site))\n",
    "#get_all_devices"
   ]
  },
  {
   "cell_type": "code",
   "execution_count": 63,
   "metadata": {},
   "outputs": [
    {
     "name": "stdout",
     "output_type": "stream",
     "text": [
      "Servers pool\u001b[0m\n",
      "\u001b[0m10.30.1.0/24\u001b[0m\n",
      "\u001b[0mServers test pool\u001b[0m\n",
      "\u001b[0m10.30.3.0/24\u001b[0m\n",
      "\u001b[0m"
     ]
    }
   ],
   "source": [
    "# List all IPs prefixes from all sites\n",
    "nb_site = 'plgn'\n",
    "nb_role = 'plgn'\n",
    "IPv4 = 4\n",
    "get_all_ip_prefixes = list(nb.ipam.prefixes.filter(site = nb_site, role = nb_role))\n",
    "for ip_prefix in get_all_ip_prefixes:\n",
    "    if ip_prefix.family.value == IPv4:\n",
    "        print(ip_prefix.description)\n",
    "        print(ip_prefix)"
   ]
  },
  {
   "cell_type": "code",
   "execution_count": 64,
   "metadata": {},
   "outputs": [],
   "source": [
    "# List all IPs from all devices\n",
    "get_all_ip_addresses = list(nb.ipam.ip_addresses.filter(device=get_all_devices))\n",
    "#get_all_ip_addresses"
   ]
  },
  {
   "cell_type": "code",
   "execution_count": 65,
   "metadata": {},
   "outputs": [],
   "source": [
    "# List all interfaces from all devices\n",
    "get_all_interfaces = list(nb.dcim.interfaces.filter(device=get_all_devices))\n",
    "#get_all_interfaces"
   ]
  },
  {
   "cell_type": "code",
   "execution_count": 66,
   "metadata": {},
   "outputs": [
    {
     "name": "stdout",
     "output_type": "stream",
     "text": [
      "host SRV-PEV-5 {\n",
      "  hardware ethernet 2A:2F:0A:9F:A8:B5;\n",
      "  fixed-address 10.30.1.248;\n",
      "}\u001b[0m\n",
      "\u001b[0m"
     ]
    }
   ],
   "source": [
    "\n",
    "templates_path = \"./templates/\"\n",
    "environment = Environment(loader=FileSystemLoader(templates_path))\n",
    "template = environment.get_template(\"dhcpd_static.template\")\n",
    "for device_ip in get_all_ip_addresses:\n",
    "        for ip_prefix in get_all_ip_prefixes:\n",
    "                if IPv4Address(device_ip.address.split('/')[0]) in IPv4Network(ip_prefix.prefix):\n",
    "                        for device_interface in get_all_interfaces:\n",
    "                                if device_ip.assigned_object.device.name == device_interface.device.name and device_interface.mac_address != None:\n",
    "                                        content = template.render(\n",
    "                                        device_name = device_interface.device.name,\n",
    "                                        mac_address = device_interface.mac_address,\n",
    "                                        ip_address = device_ip.address.split('/')[0]\n",
    "                                        )\n",
    "                                        print(content)"
   ]
  },
  {
   "cell_type": "code",
   "execution_count": 113,
   "metadata": {},
   "outputs": [
    {
     "name": "stdout",
     "output_type": "stream",
     "text": [
      "host SRV-PEV-1 {\n",
      "  hardware ethernet None;\n",
      "  fixed-address 10.30.1.101;\n",
      "}\u001b[0m\n",
      "\u001b[0m"
     ]
    }
   ],
   "source": [
    "#Create a Flask instance\n",
    "\"\"\" app = Flask(__name__)\n",
    "\n",
    "@app.route('/api/ip_address', methods=['POST'])\n",
    "def webhook():\n",
    "    device_ip =  request.json[\"data\"][\"address\"]\n",
    "    device = request.json[\"data\"][\"assigned_object\"][\"device\"][\"name\"]\n",
    "    interface = request.json[\"data\"][\"assigned_object\"][\"name\"]\n",
    "    #print(ip.ip,ip.netmask,ip.network,ip.with_prefixlen,device)\n",
    "    #print(request.json)\n",
    "    \n",
    "    templates_path = \"./templates/\"\n",
    "    environment = Environment(loader=FileSystemLoader(templates_path))\n",
    "    template = environment.get_template(\"dhcpd_static.template\")\n",
    "\n",
    "    for ip_prefix in get_all_ip_prefixes:\n",
    "            if ipaddress.ip_interface(device_ip) in IPv4Network(ip_prefix.prefix):\n",
    "                for device_interface in interface:\n",
    "                    if device_ip.assigned_object.device.name == device_interface.device.name and device_interface.mac_address != None:\n",
    "                        content = template.render(\n",
    "                        device_name = device_interface.device.name,\n",
    "                        mac_address = device_interface.mac_address,\n",
    "                        ip_address = device_ip.address.split('/')[0]\n",
    "                         )\n",
    "                        print(content)\n",
    "    \n",
    "    return \"Webhook received!\"\n",
    "\n",
    "app.run(host='0.0.0.0', port=8080)\n",
    "if __name__ == \"__main__\": app.run() \"\"\"\n",
    "\n",
    "ip = ['10.30.1.101/24']\n",
    "prefix = ['10.30.1.0/24']\n",
    "interface = 'iDRAC'\n",
    "device = 'SRV-PEV-1'\n",
    "templates_path = \"./templates/\"\n",
    "environment = Environment(loader=FileSystemLoader(templates_path))\n",
    "template = environment.get_template(\"dhcpd_static.template\")\n",
    "device_interface = list(nb.dcim.interfaces.filter(device=device, name=interface))\n",
    "for device_ip in ip:\n",
    "   # print(ipaddress.ip_interface(device_ip).ip)\n",
    "    content = template.render(\n",
    "    device_name = device,\n",
    "    mac_address = device_interface[0].mac_address,\n",
    "    ip_address = ipaddress.ip_interface(device_ip).ip\n",
    "    )\n",
    "    print(content)"
   ]
  }
 ],
 "metadata": {
  "kernelspec": {
   "display_name": "Python 3",
   "language": "python",
   "name": "python3"
  },
  "language_info": {
   "codemirror_mode": {
    "name": "ipython",
    "version": 3
   },
   "file_extension": ".py",
   "mimetype": "text/x-python",
   "name": "python",
   "nbconvert_exporter": "python",
   "pygments_lexer": "ipython3",
   "version": "3.7.8"
  },
  "orig_nbformat": 4,
  "vscode": {
   "interpreter": {
    "hash": "0a54084e6b208ee8d1ce3989ffc20924477a5f55f5a43e22e699a6741623861e"
   }
  }
 },
 "nbformat": 4,
 "nbformat_minor": 2
}
